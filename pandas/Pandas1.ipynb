{
  "nbformat": 4,
  "nbformat_minor": 0,
  "metadata": {
    "colab": {
      "provenance": []
    },
    "kernelspec": {
      "name": "python3",
      "display_name": "Python 3"
    },
    "language_info": {
      "name": "python"
    }
  },
  "cells": [
    {
      "cell_type": "code",
      "execution_count": null,
      "metadata": {
        "id": "jUQjR-F06kw9"
      },
      "outputs": [],
      "source": [
        "import pandas as pd\n",
        "import numpy as np"
      ]
    },
    {
      "cell_type": "code",
      "source": [
        "ser=pd.Series()"
      ],
      "metadata": {
        "id": "C6_lYudG60TK"
      },
      "execution_count": null,
      "outputs": []
    },
    {
      "cell_type": "code",
      "source": [
        "ser"
      ],
      "metadata": {
        "colab": {
          "base_uri": "https://localhost:8080/"
        },
        "id": "Pne0YH9Z60vY",
        "outputId": "4ac78337-2be9-400c-823a-0337f2886be3"
      },
      "execution_count": null,
      "outputs": [
        {
          "output_type": "execute_result",
          "data": {
            "text/plain": [
              "Series([], dtype: object)"
            ]
          },
          "metadata": {},
          "execution_count": 3
        }
      ]
    },
    {
      "cell_type": "code",
      "source": [
        "ser=pd.Series([0,10,20,30,40,50,60,70,80,90]) # Here You Have to Notice Data Type= Float64 :Remember:\n",
        "print(ser)"
      ],
      "metadata": {
        "colab": {
          "base_uri": "https://localhost:8080/"
        },
        "id": "DDz_sZPo60x-",
        "outputId": "683de076-9b12-450e-be93-69c79d76260b"
      },
      "execution_count": null,
      "outputs": [
        {
          "output_type": "stream",
          "name": "stdout",
          "text": [
            "0     0\n",
            "1    10\n",
            "2    20\n",
            "3    30\n",
            "4    40\n",
            "5    50\n",
            "6    60\n",
            "7    70\n",
            "8    80\n",
            "9    90\n",
            "dtype: int64\n"
          ]
        }
      ]
    },
    {
      "cell_type": "code",
      "source": [
        "ser=pd.Series([20,15.7,'10']) # Lets check Data Type Here-Object .Why Object ? Because in data list one string is present\n",
        "print(ser)"
      ],
      "metadata": {
        "colab": {
          "base_uri": "https://localhost:8080/"
        },
        "id": "XtH55rJb600l",
        "outputId": "0de3698a-7aa7-40f0-8102-3a6586a76fb6"
      },
      "execution_count": null,
      "outputs": [
        {
          "output_type": "stream",
          "name": "stdout",
          "text": [
            "0      20\n",
            "1    15.7\n",
            "2      10\n",
            "dtype: object\n"
          ]
        }
      ]
    },
    {
      "cell_type": "code",
      "source": [
        "dict={'A':[1,2,3],'B':[5,8,9],'C':[1,2,3]}"
      ],
      "metadata": {
        "id": "Kb26HRpR69k_"
      },
      "execution_count": null,
      "outputs": []
    },
    {
      "cell_type": "code",
      "source": [
        "df=pd.DataFrame(dict)\n",
        "print(df)"
      ],
      "metadata": {
        "colab": {
          "base_uri": "https://localhost:8080/"
        },
        "id": "HJKMZVqg69wM",
        "outputId": "8f51b4de-b83a-408f-a8b2-c79d586c33a9"
      },
      "execution_count": null,
      "outputs": [
        {
          "output_type": "stream",
          "name": "stdout",
          "text": [
            "   A  B  C\n",
            "0  1  5  1\n",
            "1  2  8  2\n",
            "2  3  9  3\n"
          ]
        }
      ]
    },
    {
      "cell_type": "code",
      "source": [
        "df['State']=\"BR:CG:MP\".split(':')"
      ],
      "metadata": {
        "id": "9VngP3R369oX"
      },
      "execution_count": null,
      "outputs": []
    },
    {
      "cell_type": "code",
      "source": [
        "print(df)"
      ],
      "metadata": {
        "colab": {
          "base_uri": "https://localhost:8080/"
        },
        "id": "8Kd0WtXw69tE",
        "outputId": "04a1ef4c-317d-433c-f089-1f8423badfe1"
      },
      "execution_count": null,
      "outputs": [
        {
          "output_type": "stream",
          "name": "stdout",
          "text": [
            "   A  B  C State\n",
            "0  1  5  1    BR\n",
            "1  2  8  2    CG\n",
            "2  3  9  3    MP\n"
          ]
        }
      ]
    },
    {
      "cell_type": "code",
      "source": [
        "print(\"\\n Dropping any column with nan value\\n\",'-'*35,sep='')\n",
        "print(df.dropna(axis=1))"
      ],
      "metadata": {
        "colab": {
          "base_uri": "https://localhost:8080/"
        },
        "id": "MNIf3BTZ69z2",
        "outputId": "284a7b54-7912-449e-91b7-3ad3f6bba958"
      },
      "execution_count": null,
      "outputs": [
        {
          "output_type": "stream",
          "name": "stdout",
          "text": [
            "\n",
            " Dropping any column with nan value\n",
            "-----------------------------------\n",
            "   A  B  C State\n",
            "0  1  5  1    BR\n",
            "1  2  8  2    CG\n",
            "2  3  9  3    MP\n"
          ]
        }
      ]
    },
    {
      "cell_type": "code",
      "source": [
        "print(df)"
      ],
      "metadata": {
        "colab": {
          "base_uri": "https://localhost:8080/"
        },
        "id": "MYeFDFJ_7a4d",
        "outputId": "57dfcf2c-2b53-4ef8-c7c9-760ec9c0618a"
      },
      "execution_count": null,
      "outputs": [
        {
          "output_type": "stream",
          "name": "stdout",
          "text": [
            "   A  B  C State\n",
            "0  1  5  1    BR\n",
            "1  2  8  2    CG\n",
            "2  3  9  3    MP\n"
          ]
        }
      ]
    },
    {
      "cell_type": "code",
      "source": [
        "print(\"\\n Dropping any rows with a Nan Value\\n\",'-'*35)\n",
        "print(df.dropna(axis=0))"
      ],
      "metadata": {
        "colab": {
          "base_uri": "https://localhost:8080/"
        },
        "id": "5sbpAgzS7a6i",
        "outputId": "b7a17db1-73b6-479d-c65a-64ff776d9f48"
      },
      "execution_count": null,
      "outputs": [
        {
          "output_type": "stream",
          "name": "stdout",
          "text": [
            "\n",
            " Dropping any rows with a Nan Value\n",
            " -----------------------------------\n",
            "   A  B  C State\n",
            "0  1  5  1    BR\n",
            "1  2  8  2    CG\n",
            "2  3  9  3    MP\n"
          ]
        }
      ]
    },
    {
      "cell_type": "code",
      "source": [
        "print(df)"
      ],
      "metadata": {
        "colab": {
          "base_uri": "https://localhost:8080/"
        },
        "id": "2EpqZABv7a8n",
        "outputId": "f83fb49b-db44-449a-bcd3-48116d4f0bf4"
      },
      "execution_count": null,
      "outputs": [
        {
          "output_type": "stream",
          "name": "stdout",
          "text": [
            "   A  B  C State\n",
            "0  1  5  1    BR\n",
            "1  2  8  2    CG\n",
            "2  3  9  3    MP\n"
          ]
        }
      ]
    },
    {
      "cell_type": "code",
      "source": [
        "print(\"\\n Filling Value with a Default Value\\n\",'-'*35,sep='')\n",
        "print(df.fillna(value=50))"
      ],
      "metadata": {
        "colab": {
          "base_uri": "https://localhost:8080/"
        },
        "id": "XH9XGdHn7a-u",
        "outputId": "0b4ef75f-a8bf-484f-ea61-046d4b1ff4bb"
      },
      "execution_count": null,
      "outputs": [
        {
          "output_type": "stream",
          "name": "stdout",
          "text": [
            "\n",
            " Filling Value with a Default Value\n",
            "-----------------------------------\n",
            "   A  B  C State\n",
            "0  1  5  1    BR\n",
            "1  2  8  2    CG\n",
            "2  3  9  3    MP\n"
          ]
        }
      ]
    },
    {
      "cell_type": "code",
      "source": [
        "print(df)"
      ],
      "metadata": {
        "colab": {
          "base_uri": "https://localhost:8080/"
        },
        "id": "WlfDwW1I7m-k",
        "outputId": "0bc927df-094b-4555-9d30-0035f1a43e30"
      },
      "execution_count": null,
      "outputs": [
        {
          "output_type": "stream",
          "name": "stdout",
          "text": [
            "   A  B  C State\n",
            "0  1  5  1    BR\n",
            "1  2  8  2    CG\n",
            "2  3  9  3    MP\n"
          ]
        }
      ]
    },
    {
      "cell_type": "code",
      "source": [
        "print(\"\\n Filling Values with a computed values (mean of a column A here)\\n\",'-'*60,sep='')\n",
        "df.fillna(value=df['C'].mean(),inplace=True)#inplace=True means we save our data for future\n",
        "print(df)"
      ],
      "metadata": {
        "colab": {
          "base_uri": "https://localhost:8080/"
        },
        "id": "s9qXMJIs7nAv",
        "outputId": "01657ff8-7165-4190-ba4d-e8876669f385"
      },
      "execution_count": null,
      "outputs": [
        {
          "output_type": "stream",
          "name": "stdout",
          "text": [
            "\n",
            " Filling Values with a computed values (mean of a column A here)\n",
            "------------------------------------------------------------\n",
            "   A  B  C State\n",
            "0  1  5  1    BR\n",
            "1  2  8  2    CG\n",
            "2  3  9  3    MP\n"
          ]
        }
      ]
    },
    {
      "cell_type": "code",
      "source": [
        "print(df)"
      ],
      "metadata": {
        "colab": {
          "base_uri": "https://localhost:8080/"
        },
        "id": "QtjIaE2f7nC1",
        "outputId": "0528be4d-66ae-41c5-a286-8e7e1e730420"
      },
      "execution_count": null,
      "outputs": [
        {
          "output_type": "stream",
          "name": "stdout",
          "text": [
            "   A  B  C State\n",
            "0  1  5  1    BR\n",
            "1  2  8  2    CG\n",
            "2  3  9  3    MP\n"
          ]
        }
      ]
    },
    {
      "cell_type": "code",
      "source": [
        "data={'Company':['Goog','Goog','MSFT','MSFT','FB','FB'],\n",
        "      'Person':['Sam','Charlie','Amy','Vanessa','Carl','Sarah'],\n",
        "     'Sales':[200,120,340,124,243,350]}"
      ],
      "metadata": {
        "id": "AUVQUKzH7nE6"
      },
      "execution_count": null,
      "outputs": []
    },
    {
      "cell_type": "code",
      "source": [
        "df=pd.DataFrame(data)\n",
        "print(df)"
      ],
      "metadata": {
        "id": "UCf4nx9a7nG_"
      },
      "execution_count": null,
      "outputs": []
    },
    {
      "cell_type": "code",
      "source": [
        "bycomp=df.groupby('Company')\n",
        "print(\"\\n Grouping by 'company' column and listing mean sales\\n\",'-'*55,sep='')\n",
        "print(bycomp.mean())"
      ],
      "metadata": {
        "id": "1EQIphLG7nJV"
      },
      "execution_count": null,
      "outputs": []
    },
    {
      "cell_type": "code",
      "source": [
        "bycomp=df.groupby('Company')\n",
        "print(\"\\n Grouping by 'Company' column and listing sum of sales\\n\",'-'*55,sep='')\n",
        "print(bycomp.sum())"
      ],
      "metadata": {
        "id": "TM9FLrhJ7nL8"
      },
      "execution_count": null,
      "outputs": []
    },
    {
      "cell_type": "code",
      "source": [
        "class_a=pd.DataFrame({'Mat':[45,68,35,65],\n",
        "                     'Eng':[54,87,36,52],\n",
        "                     'Sci':[66,77,88,70],\n",
        "                     'Chem':[54,79,58,76]},\n",
        "                    index=['Ravi','Shyam','Saurav','Abhi'])\n",
        "class_a"
      ],
      "metadata": {
        "id": "TF757ghp7z15"
      },
      "execution_count": null,
      "outputs": []
    },
    {
      "cell_type": "code",
      "source": [
        "class_b=pd.DataFrame({'Mat':[50,87,69,71],\n",
        "                     'Eng':[66,50,87,69],\n",
        "                     'Sci':[34,66,69,71],\n",
        "                     'Chem':[54,87,34,66]},\n",
        "                    index=['Shaan','Mahi','Viru','Mona'])\n",
        "class_b"
      ],
      "metadata": {
        "id": "JuqmZiLv7z35"
      },
      "execution_count": null,
      "outputs": []
    },
    {
      "cell_type": "code",
      "source": [
        "class_c=pd.DataFrame({'Mat':[66,50,87,56],\n",
        "                     'Eng':[56,87,89,71],\n",
        "                     'Sci':[77,88,70,52],\n",
        "                     'Chem':[34,56,56,87]},\n",
        "                    index=['Astha','Rohit','Rahul','Shital'])\n",
        "class_c"
      ],
      "metadata": {
        "id": "VXOUMPlr7z5w"
      },
      "execution_count": null,
      "outputs": []
    },
    {
      "cell_type": "code",
      "source": [
        "all_student_marks=pd.concat([class_a,class_b,class_c],axis=0)\n",
        "print(\"\\n After concatenation along row \\n\",'-'*30,sep='')\n",
        "print(all_student_marks)"
      ],
      "metadata": {
        "id": "weaaGH3g7z8L"
      },
      "execution_count": null,
      "outputs": []
    },
    {
      "cell_type": "code",
      "source": [
        "df.cat2=pd.concat([class_a,class_b,class_c],axis=1)\n",
        "print(\"\\n Concat with column wise \\n\",'-'*60,sep='')\n",
        "print(df.cat2)"
      ],
      "metadata": {
        "id": "DyOmzeXJ8BWZ"
      },
      "execution_count": null,
      "outputs": []
    },
    {
      "cell_type": "code",
      "source": [
        "df.cat2.fillna(value=0,inplace=True)"
      ],
      "metadata": {
        "id": "rSWx6h058DXq"
      },
      "execution_count": null,
      "outputs": []
    },
    {
      "cell_type": "code",
      "source": [
        "print(df.cat2)"
      ],
      "metadata": {
        "id": "C2q0tovn8DZ4"
      },
      "execution_count": null,
      "outputs": []
    },
    {
      "cell_type": "code",
      "source": [
        "player_id_name=pd.DataFrame({'ID':[25,30,35,40,45,50,55],\n",
        "                            'Name':['Ronaldo','Messi','Pele','Maradona','Harry','Pogba','Chhetri']})"
      ],
      "metadata": {
        "id": "svRZi5oB8DcO"
      },
      "execution_count": null,
      "outputs": []
    },
    {
      "cell_type": "code",
      "source": [
        "print(\"Player Id and Name\\n============================\")\n",
        "player_id_name"
      ],
      "metadata": {
        "id": "2ilvuYsf8JDW"
      },
      "execution_count": null,
      "outputs": []
    },
    {
      "cell_type": "code",
      "source": [
        "player_detail=pd.DataFrame({'ID':[25,30,45,50,55],\n",
        "                            'Age':[36,34,20,28,37],\n",
        "                            'Country':['Porugal','Argentina','England','France','India']})"
      ],
      "metadata": {
        "id": "iJiq1-bM8JFL"
      },
      "execution_count": null,
      "outputs": []
    },
    {
      "cell_type": "code",
      "source": [
        "print(\"Player Details \\n====================\")\n",
        "player_detail"
      ],
      "metadata": {
        "id": "J3YlvBEh8JHf"
      },
      "execution_count": null,
      "outputs": []
    },
    {
      "cell_type": "code",
      "source": [
        "print(\"======DataSet will Merged based on the ID's==========\")\n",
        "pd.merge(player_id_name,player_detail,on='ID')"
      ],
      "metadata": {
        "id": "sVWF8i-t8JZe"
      },
      "execution_count": null,
      "outputs": []
    },
    {
      "cell_type": "code",
      "source": [
        "left=pd.DataFrame({'A':['A0','A1','A2'],\n",
        "                  'B':['B0','B1','B2']},\n",
        "                 index=['K0','K1','K2'])"
      ],
      "metadata": {
        "id": "r5j06slS8JbU"
      },
      "execution_count": null,
      "outputs": []
    },
    {
      "cell_type": "code",
      "source": [
        "right=pd.DataFrame({'C':['C0','C2','C3'],\n",
        "                   'D':['D0','D2','D3']},\n",
        "                  index=['K0','K2','K3'])"
      ],
      "metadata": {
        "id": "54hWjKO78S87"
      },
      "execution_count": null,
      "outputs": []
    },
    {
      "cell_type": "code",
      "source": [
        "left"
      ],
      "metadata": {
        "id": "4BIZ9QsO8S-_"
      },
      "execution_count": null,
      "outputs": []
    },
    {
      "cell_type": "code",
      "source": [
        "right"
      ],
      "metadata": {
        "id": "cEmE624c8TBU"
      },
      "execution_count": null,
      "outputs": []
    },
    {
      "cell_type": "code",
      "source": [
        "left.join(right)"
      ],
      "metadata": {
        "id": "2W2Q_iAo8TDK"
      },
      "execution_count": null,
      "outputs": []
    },
    {
      "cell_type": "code",
      "source": [
        "left.join(right,how='outer')"
      ],
      "metadata": {
        "id": "4Qokzjk78YvQ"
      },
      "execution_count": null,
      "outputs": []
    }
  ]
}