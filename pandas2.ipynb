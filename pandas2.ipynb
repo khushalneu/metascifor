{
  "nbformat": 4,
  "nbformat_minor": 0,
  "metadata": {
    "colab": {
      "provenance": []
    },
    "kernelspec": {
      "name": "python3",
      "display_name": "Python 3"
    },
    "language_info": {
      "name": "python"
    }
  },
  "cells": [
    {
      "cell_type": "code",
      "execution_count": 3,
      "metadata": {
        "id": "jk9mdiFR_Yf2"
      },
      "outputs": [],
      "source": [
        "import pandas as pd\n",
        "import numpy as np"
      ]
    },
    {
      "cell_type": "code",
      "source": [
        "def salary_hike(x):\n",
        "    if x>3000:\n",
        "        return np.ceil(x+(x*.30))\n",
        "    else:\n",
        "        return np.ceil(x*1.5)"
      ],
      "metadata": {
        "id": "n-FtZehw_agX"
      },
      "execution_count": null,
      "outputs": []
    },
    {
      "cell_type": "code",
      "source": [
        "df=pd.DataFrame({'Dept':[1,2,3,4,5,6,7,8,9,10],\n",
        "                'Emp_Name':['Rajesh','Shankar','Vihaan','Saurav','Gaurav','Riya','Munmun','Rohit','Yashu','Garima'],\n",
        "                'Salary':[4994,5455,6166,4044,3433,2922,6466,7877,6766,5155]})"
      ],
      "metadata": {
        "id": "wAqI4g6x_aoQ"
      },
      "execution_count": null,
      "outputs": []
    },
    {
      "cell_type": "code",
      "source": [
        "df"
      ],
      "metadata": {
        "id": "ZzwLoDNk_aqv"
      },
      "execution_count": null,
      "outputs": []
    },
    {
      "cell_type": "code",
      "source": [
        "df['New Salary']=df['Salary'].apply(salary_hike)"
      ],
      "metadata": {
        "id": "eGDaZ866_atW"
      },
      "execution_count": null,
      "outputs": []
    },
    {
      "cell_type": "code",
      "source": [
        "df"
      ],
      "metadata": {
        "id": "EPVzU9Gm_ayH"
      },
      "execution_count": null,
      "outputs": []
    },
    {
      "cell_type": "code",
      "source": [
        "df['Name_Length']=df['Emp_Name'].apply(len)"
      ],
      "metadata": {
        "id": "djpjDt-t_a0Y"
      },
      "execution_count": null,
      "outputs": []
    },
    {
      "cell_type": "code",
      "source": [
        "df"
      ],
      "metadata": {
        "id": "pC0zQzrl_a2w"
      },
      "execution_count": null,
      "outputs": []
    },
    {
      "cell_type": "code",
      "source": [
        "=df['New Salary'].apply(lambda x:np.sqrt(x))"
      ],
      "metadata": {
        "id": "4TXdzZgF_a-H"
      },
      "execution_count": null,
      "outputs": []
    },
    {
      "cell_type": "code",
      "source": [
        "df['sqrt']=df['New Salary'].apply(lambda x:np.sqrt(x))"
      ],
      "metadata": {
        "id": "uD6h6oO5_bFT"
      },
      "execution_count": null,
      "outputs": []
    },
    {
      "cell_type": "code",
      "source": [
        "df"
      ],
      "metadata": {
        "id": "XiUZxMzn_bC_"
      },
      "execution_count": null,
      "outputs": []
    },
    {
      "cell_type": "code",
      "source": [
        "print(\"Min and Max of the column 'New Salary' are  : \",df['New Salary'].min()    ,  df['New Salary'].max())"
      ],
      "metadata": {
        "id": "WWs8CbGG_bRT"
      },
      "execution_count": null,
      "outputs": []
    },
    {
      "cell_type": "code",
      "source": [
        "print(\"\\n Name of Column \\n\",'-'*20,sep=\"\")\n",
        "print(df.columns)"
      ],
      "metadata": {
        "id": "WlXwVbNuAZu-"
      },
      "execution_count": null,
      "outputs": []
    },
    {
      "cell_type": "code",
      "source": [
        "l=list(df.columns)\n",
        "print(\"\\n Column name in a list of String for later manipulation : \",l)"
      ],
      "metadata": {
        "id": "iCHqmjPMAZxQ"
      },
      "execution_count": null,
      "outputs": []
    },
    {
      "cell_type": "code",
      "source": [
        "print(\"\\n Deleting Column by 'del' command \\n\",'-'*50,sep=' ')\n",
        "del df['Salary']\n",
        "print(df)"
      ],
      "metadata": {
        "id": "aAmpM26PAZzR"
      },
      "execution_count": null,
      "outputs": []
    },
    {
      "cell_type": "code",
      "source": [
        "df"
      ],
      "metadata": {
        "id": "xeqLjwOlAZ1T"
      },
      "execution_count": null,
      "outputs": []
    },
    {
      "cell_type": "code",
      "source": [
        "df=pd.DataFrame({'Name':['Ramesh','Raghav',np.nan,np.nan],\n",
        "                'Gender':[np.nan,'M','M','F'],\n",
        "                'Section':['A','B','C','D'],\n",
        "                'Class':[5,12,np.nan,np.nan],\n",
        "                'Phone_Number':[np.nan,9406289124,8349089124,np.nan],\n",
        "                'Location':['Bengluru','Noida','Hyderabad',np.nan],\n",
        "                'Email_Present':['Y','N',np.nan,np.nan],\n",
        "                'Door_Number':[np.nan,444,555,345],\n",
        "                'Street_Name':['ABC','DEF','GHI','XYZ'],\n",
        "                'Pin_Code':[5,12,np.nan,np.nan],\n",
        "                 'State':[np.nan,'Up','Telangana',np.nan],\n",
        "                 'Dad_Name':['XYZ','DEF','GHI',np.nan]},dtype=int)\n",
        "\n",
        "df"
      ],
      "metadata": {
        "id": "3VQHmJ6MAZ3K"
      },
      "execution_count": null,
      "outputs": []
    },
    {
      "cell_type": "code",
      "source": [
        "len(df.columns)"
      ],
      "metadata": {
        "id": "aBGI7rgLAaNz"
      },
      "execution_count": null,
      "outputs": []
    },
    {
      "cell_type": "code",
      "source": [
        "df.isnull().sum()"
      ],
      "metadata": {
        "id": "Z4vJHjRvAaP4"
      },
      "execution_count": null,
      "outputs": []
    },
    {
      "cell_type": "code",
      "source": [
        "df.isnull().sum().sum()"
      ],
      "metadata": {
        "id": "MWdFikowG6gx"
      },
      "execution_count": null,
      "outputs": []
    },
    {
      "cell_type": "code",
      "source": [
        "ipl=pd.read_csv('matches.csv')"
      ],
      "metadata": {
        "id": "IpdMDeiFG6i2"
      },
      "execution_count": null,
      "outputs": []
    },
    {
      "cell_type": "code",
      "source": [
        "ipl"
      ],
      "metadata": {
        "id": "VrmvsZwrG6lE"
      },
      "execution_count": null,
      "outputs": []
    },
    {
      "cell_type": "code",
      "source": [
        "ipl.head()"
      ],
      "metadata": {
        "id": "1-CrXV2CG6nB"
      },
      "execution_count": null,
      "outputs": []
    },
    {
      "cell_type": "code",
      "source": [
        "ipl.tail()"
      ],
      "metadata": {
        "id": "2HxMKrREHDUH"
      },
      "execution_count": null,
      "outputs": []
    },
    {
      "cell_type": "code",
      "source": [
        "ipl.sample(n=5)"
      ],
      "metadata": {
        "id": "RXzl3tP9HDWI"
      },
      "execution_count": null,
      "outputs": []
    },
    {
      "cell_type": "code",
      "source": [
        "ipl=pd.read_csv(\"https://raw.githubusercontent.com/s4sauravv/Datasets/main/matches.csv\")"
      ],
      "metadata": {
        "id": "EftW8m3ZHDfu"
      },
      "execution_count": null,
      "outputs": []
    },
    {
      "cell_type": "code",
      "source": [
        "ipl"
      ],
      "metadata": {
        "id": "6rnMLazYHDh2"
      },
      "execution_count": null,
      "outputs": []
    },
    {
      "cell_type": "code",
      "source": [
        "ipl.head()"
      ],
      "metadata": {
        "id": "NvSffmUiHRya"
      },
      "execution_count": null,
      "outputs": []
    },
    {
      "cell_type": "code",
      "source": [
        "ipl.tail()"
      ],
      "metadata": {
        "id": "t3KtiJCkHR1A"
      },
      "execution_count": null,
      "outputs": []
    },
    {
      "cell_type": "code",
      "source": [
        "ipl.shape()"
      ],
      "metadata": {
        "id": "NdQNuEyHHR3V"
      },
      "execution_count": null,
      "outputs": []
    },
    {
      "cell_type": "code",
      "source": [
        "type(ipl)"
      ],
      "metadata": {
        "id": "G_0qBVQjHR5s"
      },
      "execution_count": null,
      "outputs": []
    },
    {
      "cell_type": "code",
      "source": [
        "ipl"
      ],
      "metadata": {
        "id": "U6z4KdgzHR8X"
      },
      "execution_count": null,
      "outputs": []
    },
    {
      "cell_type": "code",
      "source": [
        "pd.set_option('display.max_rows',None)"
      ],
      "metadata": {
        "id": "INi9T3BAHR_J"
      },
      "execution_count": null,
      "outputs": []
    },
    {
      "cell_type": "code",
      "source": [
        "excel_file=pd.read_excel(r\"C:\\Users\\safar\\Downloads\\matches (1).csv\")"
      ],
      "metadata": {
        "id": "nFIrvf0JHSBP"
      },
      "execution_count": null,
      "outputs": []
    },
    {
      "cell_type": "code",
      "source": [
        "ipl.to_csv('ipl_copy1.csv')"
      ],
      "metadata": {
        "id": "MwuE1sEMHDkM"
      },
      "execution_count": null,
      "outputs": []
    },
    {
      "cell_type": "code",
      "source": [
        "ipl.to_csv(r\"D:\\CSV Files.csv\",header=True,index=False)"
      ],
      "metadata": {
        "id": "8SP0eBtJHiOc"
      },
      "execution_count": null,
      "outputs": []
    },
    {
      "cell_type": "code",
      "source": [
        "url='https://www.basketball-reference.com/leagues/NBA_2015_totals.html'"
      ],
      "metadata": {
        "id": "ydxnOS9OHiQm"
      },
      "execution_count": 1,
      "outputs": []
    },
    {
      "cell_type": "code",
      "source": [
        "BB_data=pd.read_html(url)"
      ],
      "metadata": {
        "id": "tcXw7gamHiTN"
      },
      "execution_count": 4,
      "outputs": []
    },
    {
      "cell_type": "code",
      "source": [
        "BB_data"
      ],
      "metadata": {
        "colab": {
          "base_uri": "https://localhost:8080/"
        },
        "id": "rJzRs57zHiWH",
        "outputId": "95ca03ff-bfca-4e5f-a513-3fa10109ddf4"
      },
      "execution_count": 5,
      "outputs": [
        {
          "output_type": "execute_result",
          "data": {
            "text/plain": [
              "[      Rk          Player Pos Age   Tm   G  GS    MP   FG  FGA  ...   FT%  ORB  \\\n",
              " 0      1      Quincy Acy  PF  24  NYK  68  22  1287  152  331  ...  .784   79   \n",
              " 1      2    Jordan Adams  SG  20  MEM  30   0   248   35   86  ...  .609    9   \n",
              " 2      3    Steven Adams   C  21  OKC  70  67  1771  217  399  ...  .502  199   \n",
              " 3      4     Jeff Adrien  PF  28  MIN  17   0   215   19   44  ...  .579   23   \n",
              " 4      5   Arron Afflalo  SG  29  TOT  78  72  2502  375  884  ...  .843   27   \n",
              " ..   ...             ...  ..  ..  ...  ..  ..   ...  ...  ...  ...   ...  ...   \n",
              " 670  490  Thaddeus Young  PF  26  TOT  76  68  2434  451  968  ...  .655  127   \n",
              " 671  490  Thaddeus Young  PF  26  MIN  48  48  1605  289  641  ...  .682   75   \n",
              " 672  490  Thaddeus Young  PF  26  BRK  28  20   829  162  327  ...  .606   52   \n",
              " 673  491     Cody Zeller   C  22  CHO  62  45  1487  172  373  ...  .774   97   \n",
              " 674  492    Tyler Zeller   C  25  BOS  82  59  1731  340  619  ...  .823  146   \n",
              " \n",
              "      DRB  TRB  AST  STL BLK  TOV   PF   PTS  \n",
              " 0    222  301   68   27  22   60  147   398  \n",
              " 1     19   28   16   16   7   14   24    94  \n",
              " 2    324  523   66   38  86   99  222   537  \n",
              " 3     54   77   15    4   9    9   30    60  \n",
              " 4    220  247  129   41   7  116  167  1035  \n",
              " ..   ...  ...  ...  ...  ..  ...  ...   ...  \n",
              " 670  284  411  173  124  25  117  171  1071  \n",
              " 671  170  245  135   86  17   75  115   685  \n",
              " 672  114  166   38   38   8   42   56   386  \n",
              " 673  265  362  100   34  49   62  156   472  \n",
              " 674  319  465  113   18  52   76  205   833  \n",
              " \n",
              " [675 rows x 30 columns]]"
            ]
          },
          "metadata": {},
          "execution_count": 5
        }
      ]
    },
    {
      "cell_type": "code",
      "source": [
        "BB_data[0].head()"
      ],
      "metadata": {
        "colab": {
          "base_uri": "https://localhost:8080/",
          "height": 236
        },
        "id": "nU0VLJ1nHqJK",
        "outputId": "e85faf5c-e520-4fc5-9648-d15088b0e7ef"
      },
      "execution_count": 6,
      "outputs": [
        {
          "output_type": "execute_result",
          "data": {
            "text/plain": [
              "  Rk         Player Pos Age   Tm   G  GS    MP   FG  FGA  ...   FT%  ORB  DRB  \\\n",
              "0  1     Quincy Acy  PF  24  NYK  68  22  1287  152  331  ...  .784   79  222   \n",
              "1  2   Jordan Adams  SG  20  MEM  30   0   248   35   86  ...  .609    9   19   \n",
              "2  3   Steven Adams   C  21  OKC  70  67  1771  217  399  ...  .502  199  324   \n",
              "3  4    Jeff Adrien  PF  28  MIN  17   0   215   19   44  ...  .579   23   54   \n",
              "4  5  Arron Afflalo  SG  29  TOT  78  72  2502  375  884  ...  .843   27  220   \n",
              "\n",
              "   TRB  AST STL BLK  TOV   PF   PTS  \n",
              "0  301   68  27  22   60  147   398  \n",
              "1   28   16  16   7   14   24    94  \n",
              "2  523   66  38  86   99  222   537  \n",
              "3   77   15   4   9    9   30    60  \n",
              "4  247  129  41   7  116  167  1035  \n",
              "\n",
              "[5 rows x 30 columns]"
            ],
            "text/html": [
              "\n",
              "  <div id=\"df-63feaffb-a508-4790-871e-e9304bfebea4\" class=\"colab-df-container\">\n",
              "    <div>\n",
              "<style scoped>\n",
              "    .dataframe tbody tr th:only-of-type {\n",
              "        vertical-align: middle;\n",
              "    }\n",
              "\n",
              "    .dataframe tbody tr th {\n",
              "        vertical-align: top;\n",
              "    }\n",
              "\n",
              "    .dataframe thead th {\n",
              "        text-align: right;\n",
              "    }\n",
              "</style>\n",
              "<table border=\"1\" class=\"dataframe\">\n",
              "  <thead>\n",
              "    <tr style=\"text-align: right;\">\n",
              "      <th></th>\n",
              "      <th>Rk</th>\n",
              "      <th>Player</th>\n",
              "      <th>Pos</th>\n",
              "      <th>Age</th>\n",
              "      <th>Tm</th>\n",
              "      <th>G</th>\n",
              "      <th>GS</th>\n",
              "      <th>MP</th>\n",
              "      <th>FG</th>\n",
              "      <th>FGA</th>\n",
              "      <th>...</th>\n",
              "      <th>FT%</th>\n",
              "      <th>ORB</th>\n",
              "      <th>DRB</th>\n",
              "      <th>TRB</th>\n",
              "      <th>AST</th>\n",
              "      <th>STL</th>\n",
              "      <th>BLK</th>\n",
              "      <th>TOV</th>\n",
              "      <th>PF</th>\n",
              "      <th>PTS</th>\n",
              "    </tr>\n",
              "  </thead>\n",
              "  <tbody>\n",
              "    <tr>\n",
              "      <th>0</th>\n",
              "      <td>1</td>\n",
              "      <td>Quincy Acy</td>\n",
              "      <td>PF</td>\n",
              "      <td>24</td>\n",
              "      <td>NYK</td>\n",
              "      <td>68</td>\n",
              "      <td>22</td>\n",
              "      <td>1287</td>\n",
              "      <td>152</td>\n",
              "      <td>331</td>\n",
              "      <td>...</td>\n",
              "      <td>.784</td>\n",
              "      <td>79</td>\n",
              "      <td>222</td>\n",
              "      <td>301</td>\n",
              "      <td>68</td>\n",
              "      <td>27</td>\n",
              "      <td>22</td>\n",
              "      <td>60</td>\n",
              "      <td>147</td>\n",
              "      <td>398</td>\n",
              "    </tr>\n",
              "    <tr>\n",
              "      <th>1</th>\n",
              "      <td>2</td>\n",
              "      <td>Jordan Adams</td>\n",
              "      <td>SG</td>\n",
              "      <td>20</td>\n",
              "      <td>MEM</td>\n",
              "      <td>30</td>\n",
              "      <td>0</td>\n",
              "      <td>248</td>\n",
              "      <td>35</td>\n",
              "      <td>86</td>\n",
              "      <td>...</td>\n",
              "      <td>.609</td>\n",
              "      <td>9</td>\n",
              "      <td>19</td>\n",
              "      <td>28</td>\n",
              "      <td>16</td>\n",
              "      <td>16</td>\n",
              "      <td>7</td>\n",
              "      <td>14</td>\n",
              "      <td>24</td>\n",
              "      <td>94</td>\n",
              "    </tr>\n",
              "    <tr>\n",
              "      <th>2</th>\n",
              "      <td>3</td>\n",
              "      <td>Steven Adams</td>\n",
              "      <td>C</td>\n",
              "      <td>21</td>\n",
              "      <td>OKC</td>\n",
              "      <td>70</td>\n",
              "      <td>67</td>\n",
              "      <td>1771</td>\n",
              "      <td>217</td>\n",
              "      <td>399</td>\n",
              "      <td>...</td>\n",
              "      <td>.502</td>\n",
              "      <td>199</td>\n",
              "      <td>324</td>\n",
              "      <td>523</td>\n",
              "      <td>66</td>\n",
              "      <td>38</td>\n",
              "      <td>86</td>\n",
              "      <td>99</td>\n",
              "      <td>222</td>\n",
              "      <td>537</td>\n",
              "    </tr>\n",
              "    <tr>\n",
              "      <th>3</th>\n",
              "      <td>4</td>\n",
              "      <td>Jeff Adrien</td>\n",
              "      <td>PF</td>\n",
              "      <td>28</td>\n",
              "      <td>MIN</td>\n",
              "      <td>17</td>\n",
              "      <td>0</td>\n",
              "      <td>215</td>\n",
              "      <td>19</td>\n",
              "      <td>44</td>\n",
              "      <td>...</td>\n",
              "      <td>.579</td>\n",
              "      <td>23</td>\n",
              "      <td>54</td>\n",
              "      <td>77</td>\n",
              "      <td>15</td>\n",
              "      <td>4</td>\n",
              "      <td>9</td>\n",
              "      <td>9</td>\n",
              "      <td>30</td>\n",
              "      <td>60</td>\n",
              "    </tr>\n",
              "    <tr>\n",
              "      <th>4</th>\n",
              "      <td>5</td>\n",
              "      <td>Arron Afflalo</td>\n",
              "      <td>SG</td>\n",
              "      <td>29</td>\n",
              "      <td>TOT</td>\n",
              "      <td>78</td>\n",
              "      <td>72</td>\n",
              "      <td>2502</td>\n",
              "      <td>375</td>\n",
              "      <td>884</td>\n",
              "      <td>...</td>\n",
              "      <td>.843</td>\n",
              "      <td>27</td>\n",
              "      <td>220</td>\n",
              "      <td>247</td>\n",
              "      <td>129</td>\n",
              "      <td>41</td>\n",
              "      <td>7</td>\n",
              "      <td>116</td>\n",
              "      <td>167</td>\n",
              "      <td>1035</td>\n",
              "    </tr>\n",
              "  </tbody>\n",
              "</table>\n",
              "<p>5 rows × 30 columns</p>\n",
              "</div>\n",
              "    <div class=\"colab-df-buttons\">\n",
              "\n",
              "  <div class=\"colab-df-container\">\n",
              "    <button class=\"colab-df-convert\" onclick=\"convertToInteractive('df-63feaffb-a508-4790-871e-e9304bfebea4')\"\n",
              "            title=\"Convert this dataframe to an interactive table.\"\n",
              "            style=\"display:none;\">\n",
              "\n",
              "  <svg xmlns=\"http://www.w3.org/2000/svg\" height=\"24px\" viewBox=\"0 -960 960 960\">\n",
              "    <path d=\"M120-120v-720h720v720H120Zm60-500h600v-160H180v160Zm220 220h160v-160H400v160Zm0 220h160v-160H400v160ZM180-400h160v-160H180v160Zm440 0h160v-160H620v160ZM180-180h160v-160H180v160Zm440 0h160v-160H620v160Z\"/>\n",
              "  </svg>\n",
              "    </button>\n",
              "\n",
              "  <style>\n",
              "    .colab-df-container {\n",
              "      display:flex;\n",
              "      gap: 12px;\n",
              "    }\n",
              "\n",
              "    .colab-df-convert {\n",
              "      background-color: #E8F0FE;\n",
              "      border: none;\n",
              "      border-radius: 50%;\n",
              "      cursor: pointer;\n",
              "      display: none;\n",
              "      fill: #1967D2;\n",
              "      height: 32px;\n",
              "      padding: 0 0 0 0;\n",
              "      width: 32px;\n",
              "    }\n",
              "\n",
              "    .colab-df-convert:hover {\n",
              "      background-color: #E2EBFA;\n",
              "      box-shadow: 0px 1px 2px rgba(60, 64, 67, 0.3), 0px 1px 3px 1px rgba(60, 64, 67, 0.15);\n",
              "      fill: #174EA6;\n",
              "    }\n",
              "\n",
              "    .colab-df-buttons div {\n",
              "      margin-bottom: 4px;\n",
              "    }\n",
              "\n",
              "    [theme=dark] .colab-df-convert {\n",
              "      background-color: #3B4455;\n",
              "      fill: #D2E3FC;\n",
              "    }\n",
              "\n",
              "    [theme=dark] .colab-df-convert:hover {\n",
              "      background-color: #434B5C;\n",
              "      box-shadow: 0px 1px 3px 1px rgba(0, 0, 0, 0.15);\n",
              "      filter: drop-shadow(0px 1px 2px rgba(0, 0, 0, 0.3));\n",
              "      fill: #FFFFFF;\n",
              "    }\n",
              "  </style>\n",
              "\n",
              "    <script>\n",
              "      const buttonEl =\n",
              "        document.querySelector('#df-63feaffb-a508-4790-871e-e9304bfebea4 button.colab-df-convert');\n",
              "      buttonEl.style.display =\n",
              "        google.colab.kernel.accessAllowed ? 'block' : 'none';\n",
              "\n",
              "      async function convertToInteractive(key) {\n",
              "        const element = document.querySelector('#df-63feaffb-a508-4790-871e-e9304bfebea4');\n",
              "        const dataTable =\n",
              "          await google.colab.kernel.invokeFunction('convertToInteractive',\n",
              "                                                    [key], {});\n",
              "        if (!dataTable) return;\n",
              "\n",
              "        const docLinkHtml = 'Like what you see? Visit the ' +\n",
              "          '<a target=\"_blank\" href=https://colab.research.google.com/notebooks/data_table.ipynb>data table notebook</a>'\n",
              "          + ' to learn more about interactive tables.';\n",
              "        element.innerHTML = '';\n",
              "        dataTable['output_type'] = 'display_data';\n",
              "        await google.colab.output.renderOutput(dataTable, element);\n",
              "        const docLink = document.createElement('div');\n",
              "        docLink.innerHTML = docLinkHtml;\n",
              "        element.appendChild(docLink);\n",
              "      }\n",
              "    </script>\n",
              "  </div>\n",
              "\n",
              "\n",
              "<div id=\"df-fdd32a3c-d7f1-4d07-80d8-3816683be291\">\n",
              "  <button class=\"colab-df-quickchart\" onclick=\"quickchart('df-fdd32a3c-d7f1-4d07-80d8-3816683be291')\"\n",
              "            title=\"Suggest charts\"\n",
              "            style=\"display:none;\">\n",
              "\n",
              "<svg xmlns=\"http://www.w3.org/2000/svg\" height=\"24px\"viewBox=\"0 0 24 24\"\n",
              "     width=\"24px\">\n",
              "    <g>\n",
              "        <path d=\"M19 3H5c-1.1 0-2 .9-2 2v14c0 1.1.9 2 2 2h14c1.1 0 2-.9 2-2V5c0-1.1-.9-2-2-2zM9 17H7v-7h2v7zm4 0h-2V7h2v10zm4 0h-2v-4h2v4z\"/>\n",
              "    </g>\n",
              "</svg>\n",
              "  </button>\n",
              "\n",
              "<style>\n",
              "  .colab-df-quickchart {\n",
              "      --bg-color: #E8F0FE;\n",
              "      --fill-color: #1967D2;\n",
              "      --hover-bg-color: #E2EBFA;\n",
              "      --hover-fill-color: #174EA6;\n",
              "      --disabled-fill-color: #AAA;\n",
              "      --disabled-bg-color: #DDD;\n",
              "  }\n",
              "\n",
              "  [theme=dark] .colab-df-quickchart {\n",
              "      --bg-color: #3B4455;\n",
              "      --fill-color: #D2E3FC;\n",
              "      --hover-bg-color: #434B5C;\n",
              "      --hover-fill-color: #FFFFFF;\n",
              "      --disabled-bg-color: #3B4455;\n",
              "      --disabled-fill-color: #666;\n",
              "  }\n",
              "\n",
              "  .colab-df-quickchart {\n",
              "    background-color: var(--bg-color);\n",
              "    border: none;\n",
              "    border-radius: 50%;\n",
              "    cursor: pointer;\n",
              "    display: none;\n",
              "    fill: var(--fill-color);\n",
              "    height: 32px;\n",
              "    padding: 0;\n",
              "    width: 32px;\n",
              "  }\n",
              "\n",
              "  .colab-df-quickchart:hover {\n",
              "    background-color: var(--hover-bg-color);\n",
              "    box-shadow: 0 1px 2px rgba(60, 64, 67, 0.3), 0 1px 3px 1px rgba(60, 64, 67, 0.15);\n",
              "    fill: var(--button-hover-fill-color);\n",
              "  }\n",
              "\n",
              "  .colab-df-quickchart-complete:disabled,\n",
              "  .colab-df-quickchart-complete:disabled:hover {\n",
              "    background-color: var(--disabled-bg-color);\n",
              "    fill: var(--disabled-fill-color);\n",
              "    box-shadow: none;\n",
              "  }\n",
              "\n",
              "  .colab-df-spinner {\n",
              "    border: 2px solid var(--fill-color);\n",
              "    border-color: transparent;\n",
              "    border-bottom-color: var(--fill-color);\n",
              "    animation:\n",
              "      spin 1s steps(1) infinite;\n",
              "  }\n",
              "\n",
              "  @keyframes spin {\n",
              "    0% {\n",
              "      border-color: transparent;\n",
              "      border-bottom-color: var(--fill-color);\n",
              "      border-left-color: var(--fill-color);\n",
              "    }\n",
              "    20% {\n",
              "      border-color: transparent;\n",
              "      border-left-color: var(--fill-color);\n",
              "      border-top-color: var(--fill-color);\n",
              "    }\n",
              "    30% {\n",
              "      border-color: transparent;\n",
              "      border-left-color: var(--fill-color);\n",
              "      border-top-color: var(--fill-color);\n",
              "      border-right-color: var(--fill-color);\n",
              "    }\n",
              "    40% {\n",
              "      border-color: transparent;\n",
              "      border-right-color: var(--fill-color);\n",
              "      border-top-color: var(--fill-color);\n",
              "    }\n",
              "    60% {\n",
              "      border-color: transparent;\n",
              "      border-right-color: var(--fill-color);\n",
              "    }\n",
              "    80% {\n",
              "      border-color: transparent;\n",
              "      border-right-color: var(--fill-color);\n",
              "      border-bottom-color: var(--fill-color);\n",
              "    }\n",
              "    90% {\n",
              "      border-color: transparent;\n",
              "      border-bottom-color: var(--fill-color);\n",
              "    }\n",
              "  }\n",
              "</style>\n",
              "\n",
              "  <script>\n",
              "    async function quickchart(key) {\n",
              "      const quickchartButtonEl =\n",
              "        document.querySelector('#' + key + ' button');\n",
              "      quickchartButtonEl.disabled = true;  // To prevent multiple clicks.\n",
              "      quickchartButtonEl.classList.add('colab-df-spinner');\n",
              "      try {\n",
              "        const charts = await google.colab.kernel.invokeFunction(\n",
              "            'suggestCharts', [key], {});\n",
              "      } catch (error) {\n",
              "        console.error('Error during call to suggestCharts:', error);\n",
              "      }\n",
              "      quickchartButtonEl.classList.remove('colab-df-spinner');\n",
              "      quickchartButtonEl.classList.add('colab-df-quickchart-complete');\n",
              "    }\n",
              "    (() => {\n",
              "      let quickchartButtonEl =\n",
              "        document.querySelector('#df-fdd32a3c-d7f1-4d07-80d8-3816683be291 button');\n",
              "      quickchartButtonEl.style.display =\n",
              "        google.colab.kernel.accessAllowed ? 'block' : 'none';\n",
              "    })();\n",
              "  </script>\n",
              "</div>\n",
              "\n",
              "    </div>\n",
              "  </div>\n"
            ],
            "application/vnd.google.colaboratory.intrinsic+json": {
              "type": "dataframe"
            }
          },
          "metadata": {},
          "execution_count": 6
        }
      ]
    },
    {
      "cell_type": "code",
      "source": [
        "BB_data[0].tail()"
      ],
      "metadata": {
        "id": "lwkuc2oxHqLX"
      },
      "execution_count": null,
      "outputs": []
    },
    {
      "cell_type": "code",
      "source": [
        "BB_data[0].sample(n=4)"
      ],
      "metadata": {
        "id": "8ZUEoU_sHqNw"
      },
      "execution_count": null,
      "outputs": []
    },
    {
      "cell_type": "code",
      "source": [
        "BB_data[0].shape"
      ],
      "metadata": {
        "id": "ukTCCI3UHqQX"
      },
      "execution_count": null,
      "outputs": []
    },
    {
      "cell_type": "code",
      "source": [
        "BB_data[0].columns"
      ],
      "metadata": {
        "id": "XwqURB4yHqSq"
      },
      "execution_count": null,
      "outputs": []
    },
    {
      "cell_type": "code",
      "source": [
        "BB_data[0][['Rk','Player','Pos']].head()"
      ],
      "metadata": {
        "id": "YnsE9M86H-q1"
      },
      "execution_count": null,
      "outputs": []
    },
    {
      "cell_type": "code",
      "source": [
        "BB_data[0]"
      ],
      "metadata": {
        "id": "ErPWWKPNH-s6"
      },
      "execution_count": null,
      "outputs": []
    },
    {
      "cell_type": "code",
      "source": [
        "pd.set_option('display.max_rows',None)"
      ],
      "metadata": {
        "id": "RqDrcmrdH-vQ"
      },
      "execution_count": null,
      "outputs": []
    }
  ]
}