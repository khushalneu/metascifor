{
  "cells": [
    {
      "cell_type": "code",
      "execution_count": null,
      "id": "8019c971-b3c7-4de7-80b8-5f6429d76376",
      "metadata": {
        "colab": {
          "base_uri": "https://localhost:8080/",
          "height": 108
        },
        "id": "8019c971-b3c7-4de7-80b8-5f6429d76376",
        "outputId": "c52802ee-7712-4721-fec3-6c272e34b976"
      },
      "outputs": [
        {
          "output_type": "error",
          "ename": "SyntaxError",
          "evalue": "invalid syntax (<ipython-input-1-72597745cc64>, line 122)",
          "traceback": [
            "\u001b[0;36m  File \u001b[0;32m\"<ipython-input-1-72597745cc64>\"\u001b[0;36m, line \u001b[0;32m122\u001b[0m\n\u001b[0;31m    ---\u001b[0m\n\u001b[0m       ^\u001b[0m\n\u001b[0;31mSyntaxError\u001b[0m\u001b[0;31m:\u001b[0m invalid syntax\n"
          ]
        }
      ],
      "source": [
        "from binascii import b2a_hex\n",
        "# Jupyter Notebook for Python Basics Practice\n",
        "\n",
        "## Multiple-Choice Questions (MCQs)\n",
        "\n",
        "### Question 1\n",
        "# What is the output of the following code?\n",
        "# print(type(5.0))\n",
        "# a) int\n",
        "# b) float\n",
        "# c) str\n",
        "# d) list\n",
        "b\n",
        "### Question 2\n",
        "# What is the correct syntax to output \"Hello World\" in Python?\n",
        "# a) echo \"Hello World\"\n",
        "# b) print(\"Hello World\")\n",
        "# c) printf(\"Hello World\")\n",
        "# d) System.out.println(\"Hello World\")\n",
        "b\n",
        "### Question 3\n",
        "# Which of the following is a correct variable declaration in Python?\n",
        "# a) var x = 10\n",
        "# b) int x = 10\n",
        "# c) x = 10\n",
        "# d) declare x = 10\n",
        "c\n",
        "### Question 4\n",
        "# What is the output of the following code?\n",
        "# print(2 ** 3)\n",
        "# a) 6\n",
        "# b) 8\n",
        "# c) 9\n",
        "# d) 12\n",
        "b\n",
        "### Question 5\n",
        "# Which of the following is used to define a block of code in Python?\n",
        "# a) Curly braces\n",
        "# b) Parentheses\n",
        "# c) Indentation\n",
        "# d) Quotation marks\n",
        "c\n",
        "### Question 6\n",
        "# How do you start a comment in Python?\n",
        "# a) //\n",
        "# b) /*\n",
        "# c) <!--\n",
        "# d) #\n",
        "d\n",
        "### Question 7\n",
        "# What is the output of the following code?\n",
        "# print(\"Hello\" + \" \" + \"World\")\n",
        "# a) Hello World\n",
        "# b) HelloWorld\n",
        "# c) Hello+World\n",
        "# d) Error\n",
        "a\n",
        "### Question 8\n",
        "# Which of the following is the correct way to create a list in Python?\n",
        "# a) list = [1, 2, 3]\n",
        "# b) list = (1, 2, 3)\n",
        "# c) list = {1, 2, 3}\n",
        "# d) list = 1, 2, 3\n",
        "a\n",
        "### Question 9\n",
        "# What is the output of the following code?\n",
        "# a = [1, 2, 3]\n",
        "# print(len(a))\n",
        "# a) 2\n",
        "# b) 3\n",
        "# c) 4\n",
        "# d) Error\n",
        "b\n",
        "### Question 10\n",
        "# Which of the following statements is true?\n",
        "# a) A tuple is mutable\n",
        "# b) A list is immutable\n",
        "# c) A tuple is immutable\n",
        "# d) A list is immutable and a tuple is mutable\n",
        "c\n",
        "### Question 11\n",
        "# What will be the output of the following code?\n",
        "# x = 10\n",
        "# if x > 5:\n",
        "#     print(\"Greater\")\n",
        "# else:\n",
        "#     print(\"Smaller\")\n",
        "# a) Greater\n",
        "# b) Smaller\n",
        "# c) Error\n",
        "# d) None of the above\n",
        "a\n",
        "### Question 12\n",
        "# How do you create a dictionary in Python?\n",
        "# a) dict = [1, 2, 3]\n",
        "# b) dict = {1, 2, 3}\n",
        "# c) dict = {\"one\": 1, \"two\": 2, \"three\": 3}\n",
        "# d) dict = (1, 2, 3)\n",
        "c\n",
        "### Question 13\n",
        "# What is the output of the following code?\n",
        "# x = [1, 2, 3, 4]\n",
        "# print(x[1:3])\n",
        "# a) [1, 2]\n",
        "# b) [2, 3]\n",
        "# c) [3, 4]\n",
        "# d) [2, 3, 4]\n",
        "b\n",
        "### Question 14\n",
        "# Which of the following methods can be used to add an element to a list?\n",
        "# a) append()\n",
        "# b) add()\n",
        "# c) insert()\n",
        "# d) extend()\n",
        "a\n",
        "### Question 15\n",
        "# What is the correct way to handle exceptions in Python?\n",
        "# a) try-except\n",
        "# b) try-catch\n",
        "# c) do-except\n",
        "# d) do-catch\n",
        "a\n",
        "---\n",
        "\n",
        "## Practice Questions\n",
        "\n",
        "### Question 1\n",
        "# Write a Python program to check if a number is even or odd.\n",
        "\n",
        "number = int(input(\"Enter a number: \"))\n",
        "if number % 2 == 0:\n",
        "    print(f\"{number} is even.\")\n",
        "else:\n",
        "    print(f\"{number} is odd.\")\n",
        "\n",
        "### Question 2\n",
        "# Write a Python program to find the factorial of a given number using a loop.\n",
        "\n",
        "def factorial(n):\n",
        "    result = 1\n",
        "    for i in range(1, n + 1):\n",
        "        result *= i\n",
        "    return result\n",
        "\n",
        "number = int(input(\"Enter a number: \"))\n",
        "print(f\"Factorial of {number} is {factorial(number)}.\")\n",
        "\n",
        "### Question 3\n",
        "# Write a Python program to create a list of the first 10 natural numbers and then print each number.\n",
        "\n",
        "natural_numbers = list(range(1, 11))\n",
        "for number in natural_numbers:\n",
        "    print(number)\n",
        "\n",
        "### Question 4\n",
        "# Write a Python program to calculate the sum of all numbers in a list.\n",
        "\n",
        "numbers = [1, 2, 3, 4, 5]\n",
        "print(f\"Sum of the list is {sum(numbers)}.\")\n",
        "\n",
        "### Question 5\n",
        "# Write a Python program to reverse a string.\n",
        "\n",
        "string = input(\"Enter a string: \")\n",
        "reversed_string = string[::-1]\n",
        "print(f\"Reversed string is: {reversed_string}\")\n",
        "\n",
        "### Question 6\n",
        "# Write a Python program to find the largest number in a list.\n",
        "\n",
        "numbers = [1, 2, 3, 4, 5]\n",
        "print(f\"Largest number in the list is {max(numbers)}.\")\n",
        "\n",
        "### Question 7\n",
        "# Write a Python program to print the multiplication table of any number provided by the user.\n",
        "\n",
        "number = int(input(\"Enter a number: \"))\n",
        "for i in range(1, 11):\n",
        "    print(f\"{number} x {i} = {number * i}\")\n",
        "\n",
        "### Question 8\n",
        "# Write a Python program to count the number of vowels in a string.\n",
        "\n",
        "vowels = \"aeiouAEIOU\"\n",
        "string = input(\"Enter a string: \")\n",
        "count = sum(1 for char in string if char in vowels)\n",
        "print(f\"Number of vowels in the string is: {count}\")\n",
        "\n",
        "### Question 9\n",
        "# Write a Python program to convert a list of tuples into a dictionary.\n",
        "\n",
        "tuples = [(\"one\", 1), (\"two\", 2), (\"three\", 3)]\n",
        "dictionary = dict(tuples)\n",
        "print(f\"Converted dictionary: {dictionary}\")\n",
        "\n",
        "### Question 10\n",
        "# Write a Python program to check if a given string is a palindrome.\n",
        "\n",
        "string = input(\"Enter a string: \")\n",
        "is_palindrome = string == string[::-1]\n",
        "print(f\"The string is a palindrome: {is_palindrome}\")\n"
      ]
    },
    {
      "cell_type": "code",
      "execution_count": null,
      "id": "b65847e4-f05d-4eee-a186-eb801a0c9d8f",
      "metadata": {
        "colab": {
          "base_uri": "https://localhost:8080/"
        },
        "id": "b65847e4-f05d-4eee-a186-eb801a0c9d8f",
        "outputId": "1f3d9b03-40d3-42b3-c98a-dba2e97a5e2e"
      },
      "outputs": [
        {
          "output_type": "stream",
          "name": "stdout",
          "text": [
            "Enter a number: 12\n",
            "12 is even.\n"
          ]
        }
      ],
      "source": [
        "# Q1\n",
        "number = int(input(\"Enter a number: \"))\n",
        "if number % 2 == 0:\n",
        "    print(f\"{number} is even.\")\n",
        "else:\n",
        "    print(f\"{number} is odd.\")"
      ]
    },
    {
      "cell_type": "code",
      "execution_count": null,
      "id": "e40a96f9-72e1-437d-8e2b-b9360040a277",
      "metadata": {
        "colab": {
          "base_uri": "https://localhost:8080/"
        },
        "id": "e40a96f9-72e1-437d-8e2b-b9360040a277",
        "outputId": "fbc11715-b429-4a7f-cc49-86499dd9dac7"
      },
      "outputs": [
        {
          "output_type": "stream",
          "name": "stdout",
          "text": [
            "Enter a number: -24\n",
            "Factorial is not defined for negative numbers.\n"
          ]
        }
      ],
      "source": [
        "#Q2\n",
        "def factorial(n):\n",
        "    result = 1\n",
        "    for i in range(1, n + 1):\n",
        "        result *= i\n",
        "    return result\n",
        "number = int(input(\"Enter a number: \"))\n",
        "\n",
        "if number < 0:\n",
        "    print(\"Factorial cant be found for negative numbers.\")\n",
        "else:\n",
        "    print(f\"The factorial of {number} is {factorial(number)}.\")\n"
      ]
    },
    {
      "cell_type": "code",
      "execution_count": null,
      "id": "cb93b572-fc58-45f3-b16c-c25194a6ee5f",
      "metadata": {
        "colab": {
          "base_uri": "https://localhost:8080/"
        },
        "id": "cb93b572-fc58-45f3-b16c-c25194a6ee5f",
        "outputId": "491e6717-94c8-4ca4-b648-b4d9351e0139"
      },
      "outputs": [
        {
          "output_type": "stream",
          "name": "stdout",
          "text": [
            "[1, 2, 3, 4, 5, 6, 7, 8, 9, 10]\n"
          ]
        }
      ],
      "source": [
        "#Q3\n",
        "natural_numbers = list(range(1, 11))\n",
        "\n",
        "for number in natural_numbers:\n",
        "    print(number)\n"
      ]
    },
    {
      "cell_type": "code",
      "execution_count": null,
      "id": "f5e00f97-195e-42c5-aee3-8e7d5e430cc9",
      "metadata": {
        "colab": {
          "base_uri": "https://localhost:8080/"
        },
        "id": "f5e00f97-195e-42c5-aee3-8e7d5e430cc9",
        "outputId": "096ff31c-fd30-457e-c782-eb5750912151"
      },
      "outputs": [
        {
          "output_type": "stream",
          "name": "stdout",
          "text": [
            "The sum of all numbers in the list is: 55\n"
          ]
        }
      ],
      "source": [
        "#Q4\n",
        "\n",
        "def sum_of_list(numbers):\n",
        "    total = 0\n",
        "    for i in numbers:\n",
        "        total += i\n",
        "    return total\n",
        "\n",
        "numbers_list = [1, 2, 3, 4, 5, 6, 7, 8, 9, 10]\n",
        "\n",
        "sum_total = sum_of_list(numbers_list)\n",
        "\n",
        "print(f\"The sum of all numbers in the list is: {sum_total}\")\n"
      ]
    },
    {
      "cell_type": "code",
      "execution_count": null,
      "id": "4329d690-7d0c-432a-a9b8-fafa218c7526",
      "metadata": {
        "colab": {
          "base_uri": "https://localhost:8080/"
        },
        "id": "4329d690-7d0c-432a-a9b8-fafa218c7526",
        "outputId": "f91e5974-4c41-4287-d5c6-a2b48da85ae1"
      },
      "outputs": [
        {
          "output_type": "stream",
          "name": "stdout",
          "text": [
            "Enter a string: Khushal\n",
            "The reversed string is: lahsuhK\n"
          ]
        }
      ],
      "source": [
        "#Q5\n",
        "\n",
        "def reverse_string(s):\n",
        "    return s[::-1]\n",
        "\n",
        "input_string = input(\"Enter a string: \")\n",
        "\n",
        "reversed_string = reverse_string(input_string)\n",
        "\n",
        "print(f\"The reversed string is: {reversed_string}\")\n"
      ]
    },
    {
      "cell_type": "code",
      "execution_count": null,
      "id": "8d4325f9-d3d3-485e-8468-460ca97740d4",
      "metadata": {
        "colab": {
          "base_uri": "https://localhost:8080/"
        },
        "id": "8d4325f9-d3d3-485e-8468-460ca97740d4",
        "outputId": "59f49833-82f9-4923-e3d1-1d20ce1bf8ca"
      },
      "outputs": [
        {
          "output_type": "stream",
          "name": "stdout",
          "text": [
            "The largest number in the list is: 9\n"
          ]
        }
      ],
      "source": [
        "#Q6\n",
        "\n",
        "def find_largest(numbers):\n",
        "    if not numbers:\n",
        "        return None\n",
        "\n",
        "    largest = numbers[0]\n",
        "    for number in numbers:\n",
        "        if number > largest:\n",
        "            largest = number\n",
        "    return largest\n",
        "\n",
        "numbers_list = [3, 1, 4, 1, 5, 9, 2, 6, 5, 3, 5]\n",
        "\n",
        "largest_number = find_largest(numbers_list)\n",
        "\n",
        "if largest_number is not None:\n",
        "    print(f\"The largest number in the list is: {largest_number}\")\n",
        "else:\n",
        "    print(\"The list is empty.\")\n"
      ]
    },
    {
      "cell_type": "code",
      "execution_count": null,
      "id": "660fe550-6961-4fb4-a22d-19fcdb1a5fa1",
      "metadata": {
        "colab": {
          "base_uri": "https://localhost:8080/"
        },
        "id": "660fe550-6961-4fb4-a22d-19fcdb1a5fa1",
        "outputId": "bdaf3266-0b2d-4cc1-d74d-5a810919a120"
      },
      "outputs": [
        {
          "output_type": "stream",
          "name": "stdout",
          "text": [
            "Enter a number to get its multiplication table: 12\n",
            "12 x 1 = 12\n",
            "12 x 2 = 24\n",
            "12 x 3 = 36\n",
            "12 x 4 = 48\n",
            "12 x 5 = 60\n",
            "12 x 6 = 72\n",
            "12 x 7 = 84\n",
            "12 x 8 = 96\n",
            "12 x 9 = 108\n",
            "12 x 10 = 120\n"
          ]
        }
      ],
      "source": [
        "#Q7\n",
        "\n",
        "def multiplication_table(number, up_to=10):\n",
        "    for i in range(1, up_to + 1):\n",
        "        print(f\"{number} x {i} = {number * i}\")\n",
        "\n",
        "number = int(input(\"Enter a number to get its multiplication table: \"))\n",
        "\n",
        "multiplication_table(number)\n"
      ]
    },
    {
      "cell_type": "code",
      "execution_count": null,
      "id": "f55e2885-6f89-4cd6-9fcc-8d69ed9cf981",
      "metadata": {
        "colab": {
          "base_uri": "https://localhost:8080/"
        },
        "id": "f55e2885-6f89-4cd6-9fcc-8d69ed9cf981",
        "outputId": "3eb0c452-e588-4541-b4e1-daa3b4154b23"
      },
      "outputs": [
        {
          "output_type": "stream",
          "name": "stdout",
          "text": [
            "Enter a string: Khushal\n",
            "The number of vowels in the string is: 2\n"
          ]
        }
      ],
      "source": [
        "#Q8\n",
        "\n",
        "def count_vowels(input_string):\n",
        "    vowels = 'aeiouAEIOU'\n",
        "    count = 0\n",
        "    for char in input_string:\n",
        "        if char in vowels:\n",
        "            count += 1\n",
        "    return count\n",
        "\n",
        "input_string = input(\"Enter a string: \")\n",
        "\n",
        "vowel_count = count_vowels(input_string)\n",
        "\n",
        "print(f\"The number of vowels in the string is: {vowel_count}\")\n"
      ]
    },
    {
      "cell_type": "code",
      "source": [
        "#Q9\n",
        "\n",
        "def list_of_tuples_to_dict(tuples_list):\n",
        "    return dict(tuples_list)\n",
        "\n",
        "tuples_list = [('a', 1), ('b', 2), ('c', 3), ('d', 4)]\n",
        "\n",
        "result_dict = list_of_tuples_to_dict(tuples_list)\n",
        "\n",
        "print(\"The dictionary is:\", result_dict)\n"
      ],
      "metadata": {
        "colab": {
          "base_uri": "https://localhost:8080/"
        },
        "id": "GEi_2nrcNfMY",
        "outputId": "16240cbd-ac60-4510-87b1-b1ffe8a8a62f"
      },
      "id": "GEi_2nrcNfMY",
      "execution_count": null,
      "outputs": [
        {
          "output_type": "stream",
          "name": "stdout",
          "text": [
            "The dictionary is: {'a': 1, 'b': 2, 'c': 3, 'd': 4}\n"
          ]
        }
      ]
    },
    {
      "cell_type": "code",
      "source": [
        "#Q10\n",
        "\n",
        "def is_palindrome(s):\n",
        "    cleaned_string = ''.join(char.lower() for char in s if char.isalnum())\n",
        "    return cleaned_string == cleaned_string[::-1]\n",
        "\n",
        "input_string = input(\"Enter a string: \")\n",
        "\n",
        "if is_palindrome(input_string):\n",
        "    print(f'\"{input_string}\" is a palindrome.')\n",
        "else:\n",
        "    print(f'\"{input_string}\" is not a palindrome.')\n"
      ],
      "metadata": {
        "id": "ihSjW5d4No3W"
      },
      "id": "ihSjW5d4No3W",
      "execution_count": null,
      "outputs": []
    }
  ],
  "metadata": {
    "kernelspec": {
      "display_name": "Python 3 (ipykernel)",
      "language": "python",
      "name": "python3"
    },
    "language_info": {
      "codemirror_mode": {
        "name": "ipython",
        "version": 3
      },
      "file_extension": ".py",
      "mimetype": "text/x-python",
      "name": "python",
      "nbconvert_exporter": "python",
      "pygments_lexer": "ipython3",
      "version": "3.10.12"
    },
    "colab": {
      "provenance": []
    }
  },
  "nbformat": 4,
  "nbformat_minor": 5
}