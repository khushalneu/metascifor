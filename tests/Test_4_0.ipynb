{
  "cells": [
    {
      "cell_type": "markdown",
      "id": "a2d03c1b-3b7f-4e29-aed5-fe7c3c93a61c",
      "metadata": {
        "id": "a2d03c1b-3b7f-4e29-aed5-fe7c3c93a61c"
      },
      "source": [
        "# Statistics Test 2.0"
      ]
    },
    {
      "cell_type": "markdown",
      "id": "eacdfe41-4c50-4a8d-8af9-25d78ccbab02",
      "metadata": {
        "id": "eacdfe41-4c50-4a8d-8af9-25d78ccbab02"
      },
      "source": [
        "Time - 1.30 Hr\n",
        "\n",
        "\n",
        "Total Marks = 60\n",
        "\n"
      ]
    },
    {
      "cell_type": "markdown",
      "source": [
        "**MCQ**"
      ],
      "metadata": {
        "id": "-h45Y-7UcYVW"
      },
      "id": "-h45Y-7UcYVW"
    },
    {
      "cell_type": "markdown",
      "source": [
        "**Which of the following is a measure of central tendency?**\n",
        "\n",
        "    A) Variance\n",
        "    B) Standard Deviation\n",
        "    C) Mean\n",
        "    D) Range"
      ],
      "metadata": {
        "id": "-0TTQIaXcLJF"
      },
      "id": "-0TTQIaXcLJF"
    },
    {
      "cell_type": "code",
      "source": [
        "C"
      ],
      "metadata": {
        "id": "b_WlVIBsXDXz"
      },
      "id": "b_WlVIBsXDXz",
      "execution_count": null,
      "outputs": []
    },
    {
      "cell_type": "markdown",
      "source": [
        "**In a dataset with values [2, 4, 4, 6, 8], what is the median?**\n",
        "\n",
        "    A) 4\n",
        "    B) 4.5\n",
        "    C) 6\n",
        "    D) 8"
      ],
      "metadata": {
        "id": "YEex8H5ocLLr"
      },
      "id": "YEex8H5ocLLr"
    },
    {
      "cell_type": "code",
      "source": [
        "A"
      ],
      "metadata": {
        "id": "N6dYlyldXH3V"
      },
      "id": "N6dYlyldXH3V",
      "execution_count": null,
      "outputs": []
    },
    {
      "cell_type": "markdown",
      "source": [
        "**Inferential statistics are used to:**\n",
        "\n",
        "    A) Describe the data's central tendency\n",
        "    B) Summarize the data\n",
        "    C) Make predictions or inferences about a population based on a sample\n",
        "    D) Visualize the data"
      ],
      "metadata": {
        "id": "NLR39gAncLNz"
      },
      "id": "NLR39gAncLNz"
    },
    {
      "cell_type": "code",
      "source": [
        "C"
      ],
      "metadata": {
        "id": "keEW3c5tXTTX"
      },
      "id": "keEW3c5tXTTX",
      "execution_count": null,
      "outputs": []
    },
    {
      "cell_type": "markdown",
      "source": [
        "**What does a confidence interval represent?**\n",
        "\n",
        "    A) The range within which the population mean is expected to fall with a certain probability\n",
        "    B) The exact value of the population mean\n",
        "    C) The variability within the sample\n",
        "    D) The number of samples required"
      ],
      "metadata": {
        "id": "gxSeoRancLP9"
      },
      "id": "gxSeoRancLP9"
    },
    {
      "cell_type": "code",
      "source": [
        "A"
      ],
      "metadata": {
        "id": "UeltctCjXU9m"
      },
      "id": "UeltctCjXU9m",
      "execution_count": null,
      "outputs": []
    },
    {
      "cell_type": "markdown",
      "source": [
        "**According to the Central Limit Theorem, as the sample size increases, the distribution of the sample mean:**\n",
        "\n",
        "    A) Becomes skewed\n",
        "    B) Approaches a normal distribution\n",
        "    C) Remains uniform\n",
        "    D) Becomes bimodal"
      ],
      "metadata": {
        "id": "8VcnEmX9cLSM"
      },
      "id": "8VcnEmX9cLSM"
    },
    {
      "cell_type": "code",
      "source": [
        "B"
      ],
      "metadata": {
        "id": "QLmBTxDAXYkm"
      },
      "id": "QLmBTxDAXYkm",
      "execution_count": null,
      "outputs": []
    },
    {
      "cell_type": "markdown",
      "source": [
        "**The Central Limit Theorem is important because:**\n",
        "\n",
        "    A) It helps in defining the exact population distribution\n",
        "    B) It allows for the use of normal distribution to make inferences about sample means\n",
        "    C) It eliminates the need for sampling\n",
        "    D) It ensures sample sizes are always large"
      ],
      "metadata": {
        "id": "mQAz26m_cLUq"
      },
      "id": "mQAz26m_cLUq"
    },
    {
      "cell_type": "code",
      "source": [
        "B"
      ],
      "metadata": {
        "id": "rkED9KuGXa8a"
      },
      "id": "rkED9KuGXa8a",
      "execution_count": null,
      "outputs": []
    },
    {
      "cell_type": "markdown",
      "source": [
        "**ANOVA is used to test:**\n",
        "\n",
        "    A) The association between two categorical variables\n",
        "    B) The differences between means of three or more groups\n",
        "    C) The proportion of a sample\n",
        "    D) The correlation between two continuous variables"
      ],
      "metadata": {
        "id": "F1T_g8pgcLWv"
      },
      "id": "F1T_g8pgcLWv"
    },
    {
      "cell_type": "code",
      "source": [
        "B"
      ],
      "metadata": {
        "id": "qUQp-_kRXbaF"
      },
      "id": "qUQp-_kRXbaF",
      "execution_count": null,
      "outputs": []
    },
    {
      "cell_type": "markdown",
      "source": [
        "**A p-value less than 0.05 in an ANOVA test indicates:**\n",
        "\n",
        "    A) There is no significant difference between group means\n",
        "    B) The means of at least one group are significantly different from others\n",
        "    C) The variances within groups are equal\n",
        "    D) The sample size is too small"
      ],
      "metadata": {
        "id": "MXX8Exw3dBzd"
      },
      "id": "MXX8Exw3dBzd"
    },
    {
      "cell_type": "code",
      "source": [
        "B"
      ],
      "metadata": {
        "id": "v77e6VufXcHb"
      },
      "id": "v77e6VufXcHb",
      "execution_count": null,
      "outputs": []
    },
    {
      "cell_type": "markdown",
      "source": [
        "**The chi-square test of independence assesses:**\n",
        "\n",
        "    A) If two continuous variables are related\n",
        "    B) The goodness-of-fit of a model\n",
        "    C) The association between two categorical variables\n",
        "    D) The variance of a single variable"
      ],
      "metadata": {
        "id": "T5dE7-GIdB14"
      },
      "id": "T5dE7-GIdB14"
    },
    {
      "cell_type": "code",
      "source": [
        "C"
      ],
      "metadata": {
        "id": "tloYTMKDXo6K"
      },
      "id": "tloYTMKDXo6K",
      "execution_count": null,
      "outputs": []
    },
    {
      "cell_type": "markdown",
      "source": [
        "**The two-sample t-test assumes:**\n",
        "\n",
        "    A) Equal variances between the two groups\n",
        "    B) Unequal variances between the two groups\n",
        "    C) No assumption about variances\n",
        "    D) The samples are paired"
      ],
      "metadata": {
        "id": "TbkJYhyNdIa0"
      },
      "id": "TbkJYhyNdIa0"
    },
    {
      "cell_type": "code",
      "source": [
        "A"
      ],
      "metadata": {
        "id": "1e7qrEdTXqye"
      },
      "id": "1e7qrEdTXqye",
      "execution_count": null,
      "outputs": []
    },
    {
      "cell_type": "markdown",
      "id": "6b85eac4-9fa5-4a6e-8944-31cfdb85b1f7",
      "metadata": {
        "id": "6b85eac4-9fa5-4a6e-8944-31cfdb85b1f7"
      },
      "source": [
        "# Python Basic Exercise\n",
        "\n",
        "### Solve any three"
      ]
    },
    {
      "cell_type": "markdown",
      "id": "daf26a58-0326-40aa-bdb6-8d765abaa5e8",
      "metadata": {
        "id": "daf26a58-0326-40aa-bdb6-8d765abaa5e8"
      },
      "source": [
        "Que 1 -> You have a list a=[1,2,3,6,9,7,4,5,8], and you have to find the kth element from the list. This means I want to find the 2nd largest number from the list. Similarly, you have to create a function where I pass a number, say 4, and the function will return the 4th largest number from the list."
      ]
    },
    {
      "cell_type": "code",
      "execution_count": 8,
      "id": "6f85b635-779f-4c1f-be25-fed8ad6ca5b0",
      "metadata": {
        "id": "6f85b635-779f-4c1f-be25-fed8ad6ca5b0",
        "colab": {
          "base_uri": "https://localhost:8080/"
        },
        "outputId": "b7e2d9b7-baa1-4369-c70f-8830d24089e0"
      },
      "outputs": [
        {
          "output_type": "stream",
          "name": "stdout",
          "text": [
            "The 4th largest number in the list is: 6\n"
          ]
        }
      ],
      "source": [
        "def element (arr,k):\n",
        "  sort_arr = sorted(arr, reverse = True)\n",
        "  return sort_arr[k-1]\n",
        "\n",
        "arr = [1, 2, 3, 6, 9, 7, 4, 5, 8]\n",
        "k = 4\n",
        "fourth_largest = element(arr, k)\n",
        "print(f\"The {k}th largest number in the list is: {fourth_largest}\")"
      ]
    },
    {
      "cell_type": "markdown",
      "id": "bb4ffbe7-2bd2-47fe-be13-41ce39dde5a7",
      "metadata": {
        "id": "bb4ffbe7-2bd2-47fe-be13-41ce39dde5a7"
      },
      "source": [
        "Que 2-> you have a list [1,8,0,6,4,0,6,0,0,2,0], You need to shift all the zeros to the right , without using any inbuilt function."
      ]
    },
    {
      "cell_type": "code",
      "execution_count": 9,
      "id": "39017c11-1084-4c96-b229-83ba71c15b98",
      "metadata": {
        "id": "39017c11-1084-4c96-b229-83ba71c15b98",
        "colab": {
          "base_uri": "https://localhost:8080/"
        },
        "outputId": "cd337a83-6575-44ad-cbc3-eb4cae458aec"
      },
      "outputs": [
        {
          "output_type": "stream",
          "name": "stdout",
          "text": [
            "[1, 8, 6, 4, 6, 2, 0, 0, 0, 0, 0]\n"
          ]
        }
      ],
      "source": [
        "def shift_zeros_right(lst):\n",
        "    non_zero_elements = []\n",
        "\n",
        "    for num in lst:\n",
        "        if num != 0:\n",
        "            non_zero_elements.append(num)\n",
        "\n",
        "    zero_count = len(lst) - len(non_zero_elements)\n",
        "\n",
        "    result = non_zero_elements + [0] * zero_count\n",
        "\n",
        "    return result\n",
        "\n",
        "lst = [1, 8, 0, 6, 4, 0, 6, 0, 0, 2, 0]\n",
        "shifted_list = shift_zeros_right(lst)\n",
        "print(shifted_list)"
      ]
    },
    {
      "cell_type": "markdown",
      "id": "8f6bb4bc-9d9f-4f99-ad34-489934da6fb8",
      "metadata": {
        "id": "8f6bb4bc-9d9f-4f99-ad34-489934da6fb8"
      },
      "source": [
        "Que 3->Reverse a string without using any inbuilt function like slicing."
      ]
    },
    {
      "cell_type": "code",
      "execution_count": 11,
      "id": "3cfc4b48-15e0-4fcf-8cb7-1c6171d407e6",
      "metadata": {
        "id": "3cfc4b48-15e0-4fcf-8cb7-1c6171d407e6",
        "colab": {
          "base_uri": "https://localhost:8080/"
        },
        "outputId": "9dd3943d-092f-430e-f054-5c2bb37fc0ed"
      },
      "outputs": [
        {
          "output_type": "stream",
          "name": "stdout",
          "text": [
            "dlroW olleH\n"
          ]
        }
      ],
      "source": [
        "def reverse_string(s):\n",
        "    reversed_s = \"\"\n",
        "    for i in range(len(s) - 1, -1, -1):\n",
        "        reversed_s += s[i]\n",
        "    return reversed_s\n",
        "\n",
        "s = \"Hello World\"\n",
        "reversed_s = reverse_string(s)\n",
        "print(reversed_s)\n"
      ]
    },
    {
      "cell_type": "markdown",
      "id": "58b475ca-89a9-4074-adfa-1b31e6609aaf",
      "metadata": {
        "id": "58b475ca-89a9-4074-adfa-1b31e6609aaf"
      },
      "source": [
        "Que 4-> To find common prefix in array of strings\n",
        "\n",
        "array= ['Abce','Abcjhgj','Abcf']\n",
        "\n",
        "\n",
        "The common prefix among the strings 'Abce', 'Abcjhgj', and 'Abcf' is 'Abc'. So, the common prefix is 'Abc'."
      ]
    },
    {
      "cell_type": "code",
      "execution_count": 13,
      "id": "80d7e6ea-574b-4135-aa87-a042e9956390",
      "metadata": {
        "id": "80d7e6ea-574b-4135-aa87-a042e9956390",
        "colab": {
          "base_uri": "https://localhost:8080/"
        },
        "outputId": "17f67c7c-96b2-4935-ea27-453a21a82a01"
      },
      "outputs": [
        {
          "output_type": "stream",
          "name": "stdout",
          "text": [
            "Abc\n"
          ]
        }
      ],
      "source": [
        "def common_prefix(strings):\n",
        "    if not strings:\n",
        "        return \"\"\n",
        "\n",
        "    prefix = strings[0]\n",
        "\n",
        "    for string in strings[1:]:\n",
        "        while string[:len(prefix)] != prefix:\n",
        "            prefix = prefix[:-1]\n",
        "            if not prefix:\n",
        "                return \"\"\n",
        "\n",
        "    return prefix\n",
        "\n",
        "array = ['Abce', 'Abcjhgj', 'Abcf']\n",
        "common_prefix_value = common_prefix(array)\n",
        "print(common_prefix_value)\n"
      ]
    },
    {
      "cell_type": "markdown",
      "id": "91637a40-f4ed-414d-9c71-c82374cb13a3",
      "metadata": {
        "id": "91637a40-f4ed-414d-9c71-c82374cb13a3"
      },
      "source": [
        "Que 5- Given the list l = [1,2,0,1,2,0,0], I want the output to be ans = [0,0,0,2,2,1,1] without using any inbuilt function"
      ]
    },
    {
      "cell_type": "code",
      "execution_count": 14,
      "id": "ea7b0b77-9ff4-4f73-9a99-129c665fb961",
      "metadata": {
        "id": "ea7b0b77-9ff4-4f73-9a99-129c665fb961",
        "colab": {
          "base_uri": "https://localhost:8080/"
        },
        "outputId": "86003614-c8c4-477f-e874-d93581caea2f"
      },
      "outputs": [
        {
          "output_type": "stream",
          "name": "stdout",
          "text": [
            "[0, 0, 0, 2, 2, 1, 1]\n"
          ]
        }
      ],
      "source": [
        "def custom_sort(lst):\n",
        "    zeros = []\n",
        "    ones = []\n",
        "    twos = []\n",
        "\n",
        "    for num in lst:\n",
        "        if num == 0:\n",
        "            zeros.append(num)\n",
        "        elif num == 1:\n",
        "            ones.append(num)\n",
        "        elif num == 2:\n",
        "            twos.append(num)\n",
        "    return zeros + twos + ones\n",
        "\n",
        "l = [1, 2, 0, 1, 2, 0, 0]\n",
        "ans = custom_sort(l)\n",
        "print(ans)\n"
      ]
    },
    {
      "cell_type": "code",
      "execution_count": null,
      "id": "f36bc3d6-7bd0-4f8e-aad7-ac40484e911f",
      "metadata": {
        "id": "f36bc3d6-7bd0-4f8e-aad7-ac40484e911f"
      },
      "outputs": [],
      "source": []
    },
    {
      "cell_type": "markdown",
      "id": "e17c874f-ffe2-416f-af6c-2ba6e57a0bfd",
      "metadata": {
        "id": "e17c874f-ffe2-416f-af6c-2ba6e57a0bfd"
      },
      "source": [
        "# Statistics Theory Question\n"
      ]
    },
    {
      "cell_type": "markdown",
      "id": "0b748385-fe05-40f2-adc8-5b643f95b906",
      "metadata": {
        "id": "0b748385-fe05-40f2-adc8-5b643f95b906"
      },
      "source": [
        "Que 1- What is Central Limit Theoram ? Explain."
      ]
    },
    {
      "cell_type": "markdown",
      "source": [
        "Ans= When you take large random samples, the distribution of the sample means will tend to be approximately normally distributed. This holds true regardless of the population's original distribution shape."
      ],
      "metadata": {
        "id": "Cg4NrCmWaIO9"
      },
      "id": "Cg4NrCmWaIO9"
    },
    {
      "cell_type": "markdown",
      "source": [],
      "metadata": {
        "id": "y1HQR6MhaGKH"
      },
      "id": "y1HQR6MhaGKH"
    },
    {
      "cell_type": "markdown",
      "id": "8466b61e-24b9-4567-bd63-04d8fb5360ad",
      "metadata": {
        "id": "8466b61e-24b9-4567-bd63-04d8fb5360ad"
      },
      "source": [
        "Que 2- What is CDF(Comulative density function). Explain with mathematics."
      ]
    },
    {
      "cell_type": "markdown",
      "source": [
        "\n",
        "The Cumulative Distribution Function (CDF) is a fundamental concept in probability theory and statistics. It describes the probability that a random variable\n",
        "𝑋\n",
        "X takes on a value less than or equal to a specific value\n",
        "𝑥\n",
        "x.\n",
        "\n",
        "Mathematically, the CDF is defined as:\n",
        "\n",
        "𝐹\n",
        "𝑋\n",
        "(\n",
        "𝑥\n",
        ")\n",
        "=\n",
        "𝑃\n",
        "(\n",
        "𝑋\n",
        "≤\n",
        "𝑥\n",
        ")\n",
        "F\n",
        "X\n",
        "​\n",
        " (x)=P(X≤x)"
      ],
      "metadata": {
        "id": "4lMYFEs0aTO2"
      },
      "id": "4lMYFEs0aTO2"
    },
    {
      "cell_type": "markdown",
      "id": "6ada9cfc-cb42-4e64-b74e-7befd45cbe4a",
      "metadata": {
        "id": "6ada9cfc-cb42-4e64-b74e-7befd45cbe4a"
      },
      "source": [
        "Que 3- What is Anova test. how we can calculate behind the scene ?"
      ]
    },
    {
      "cell_type": "markdown",
      "source": [
        "ANOVA is a statistical method to test whether there are significant differences between the means of three or more independent groups. The key idea is to analyze the variance within each group and compare it to the variance between the groups.\n",
        "\n",
        "The calculation of an ANOVA test involves several steps:\n",
        "\n",
        "1. Calculate Group Means\n",
        "\n",
        "2. Calculate the Overall Mean\n",
        "\n",
        "3. Calculate the Between-Group Variance\n",
        "\n",
        "4. Calculate the Within-Group Variance\n",
        "\n",
        "5. Calculate the Total Variance\n",
        "\n",
        "6. Calculate the Mean Squares\n",
        "\n",
        "7. Calculate the F-statistic\n",
        "The F-statistic is the ratio of the variance between the groups to the variance within the groups\n",
        "\n",
        "8. Compare the F-statistic to a Critical Value"
      ],
      "metadata": {
        "id": "EVoIIPO_ajsW"
      },
      "id": "EVoIIPO_ajsW"
    },
    {
      "cell_type": "markdown",
      "id": "dffe2da1-3353-4865-85eb-fff2caea349a",
      "metadata": {
        "id": "dffe2da1-3353-4865-85eb-fff2caea349a"
      },
      "source": [
        "Que 4-  What is Chi-Square test. how we will calculate behind the scene."
      ]
    },
    {
      "cell_type": "markdown",
      "source": [
        "The Chi-Square test is a statistical method used to determine whether there is a significant association between two categorical variables.\n",
        "\n",
        "Steps to Calculate the Chi-Square Test:\n",
        "1. Set Up the Hypotheses\n",
        "\n",
        "2. Create a Contingency Table\n",
        "\n",
        "3. Calculate the Expected Frequencies\n",
        "\n",
        "4. Compute the Chi-Square Statistic\n",
        "\n",
        "5. Determine the Degrees of Freedom\n",
        "\n",
        "6. Compare the Chi-Square Statistic to the Critical Value\n",
        "\n",
        "7. Make a Decision"
      ],
      "metadata": {
        "id": "f-xguWGIbaWa"
      },
      "id": "f-xguWGIbaWa"
    },
    {
      "cell_type": "markdown",
      "id": "8fec219a-1fe3-41db-a2ba-8a0b5e0b4a43",
      "metadata": {
        "id": "8fec219a-1fe3-41db-a2ba-8a0b5e0b4a43"
      },
      "source": [
        "Que 5-  What is the difference between inferential and descriptive statistics."
      ]
    },
    {
      "cell_type": "markdown",
      "source": [
        "Descriptive: Limited to the data; describes the dataset itself.\n",
        "Inferential: Extends beyond the data to make predictions\n",
        "\n",
        "Descriptive: Deals only with the sample data available.\n",
        "Inferential: Relies on sample data to draw conclusions\n",
        "\n",
        "Descriptive: No uncertainty\n",
        "Inferential: Involves uncertainty and uses probability"
      ],
      "metadata": {
        "id": "y9uoV8YWb0gI"
      },
      "id": "y9uoV8YWb0gI"
    },
    {
      "cell_type": "markdown",
      "id": "d7a2df48-9875-4b6b-ba26-feee4e03b1d5",
      "metadata": {
        "id": "d7a2df48-9875-4b6b-ba26-feee4e03b1d5"
      },
      "source": [
        "Que 6- Explain any 2 distribution."
      ]
    },
    {
      "cell_type": "markdown",
      "source": [
        "Normal Distribution is characterized by a symmetric, bell-shaped curve. The curve is symmetric about its mean, meaning that the left and right halves of the graph are mirror images. The mean, median, and mode of the distribution are all equal and located at the center of the distribution.\n",
        "\n",
        "The Binomial Distribution is a discrete probability distribution that describes the number of successes in a fixed number of independent trials of a binary experiment.\n",
        "Each trial has only two possible outcomes: success(1) and failure (0).\n",
        "The distribution is determined by two parameters: the number of trials n and the probability of success in each trial p."
      ],
      "metadata": {
        "id": "vqQVqC6ecK7i"
      },
      "id": "vqQVqC6ecK7i"
    },
    {
      "cell_type": "markdown",
      "id": "5c2a1d3b-bea9-4de6-8018-a120e2d36528",
      "metadata": {
        "id": "5c2a1d3b-bea9-4de6-8018-a120e2d36528"
      },
      "source": [
        "# Statistics Mathematics  Question\n",
        "\n"
      ]
    },
    {
      "cell_type": "markdown",
      "id": "40749fa8-a06d-4d9c-8864-4bb8b24599a3",
      "metadata": {
        "id": "40749fa8-a06d-4d9c-8864-4bb8b24599a3"
      },
      "source": [
        "Que 1 - if I generate heights for 1000 people from a normal distribution, what would be the probability for a new person to have a height of 70 inches using (CDF) then z-score table? take height in inches.\n",
        "\n",
        "#### Mean height (in inches) of the population\n",
        "mean_height = 66\n",
        "\n",
        "#### Standard deviation of heights (in inches) of the population\n",
        "std_dev_height = 3\n",
        "\n",
        "\n",
        "##### Generate data using this code\n",
        "###### Generate heights for 1000 people from a normal distribution\n",
        "heights = np.random.normal(mean_height, std_dev_height, 1000)))"
      ]
    },
    {
      "cell_type": "code",
      "execution_count": 15,
      "id": "e0b6c3a7-4b11-403f-860d-0beab1408712",
      "metadata": {
        "id": "e0b6c3a7-4b11-403f-860d-0beab1408712"
      },
      "outputs": [],
      "source": [
        "import numpy as np\n",
        "from scipy.stats import norm"
      ]
    },
    {
      "cell_type": "code",
      "execution_count": 16,
      "id": "02c423a1-cadd-4780-b2b1-606b36cbb1a9",
      "metadata": {
        "id": "02c423a1-cadd-4780-b2b1-606b36cbb1a9"
      },
      "outputs": [],
      "source": [
        "mean_height = 66\n",
        "std_dev_height = 3"
      ]
    },
    {
      "cell_type": "code",
      "execution_count": 20,
      "id": "fc8691b1-9217-45fa-9c79-c7ad3b60b150",
      "metadata": {
        "id": "fc8691b1-9217-45fa-9c79-c7ad3b60b150"
      },
      "outputs": [],
      "source": [
        "heights = np.random.normal(mean_height, std_dev_height, 1000)"
      ]
    },
    {
      "cell_type": "code",
      "execution_count": 18,
      "id": "5dabad10-7ae0-4827-9d09-6b95ea27deea",
      "metadata": {
        "id": "5dabad10-7ae0-4827-9d09-6b95ea27deea"
      },
      "outputs": [],
      "source": [
        "z_score = (70 - mean_height) / std_dev_height\n",
        "probability = norm.cdf(z_score)"
      ]
    },
    {
      "cell_type": "code",
      "execution_count": 21,
      "id": "2ab7b5e6-e40f-450c-becf-eadedda71980",
      "metadata": {
        "id": "2ab7b5e6-e40f-450c-becf-eadedda71980",
        "colab": {
          "base_uri": "https://localhost:8080/"
        },
        "outputId": "1f057fa3-3ba7-4833-c35b-7d91a36e93e3"
      },
      "outputs": [
        {
          "output_type": "stream",
          "name": "stdout",
          "text": [
            "Z-score for a height of 70 inches: 1.3333333333333333\n",
            "Probability (CDF) that a person has a height less than or equal to 70 inches: 0.9087887802741321\n"
          ]
        }
      ],
      "source": [
        "print(f\"Z-score for a height of 70 inches: {z_score}\")\n",
        "print(f\"Probability (CDF) that a person has a height less than or equal to 70 inches: {probability}\")"
      ]
    },
    {
      "cell_type": "markdown",
      "id": "99a22f4f-7737-4ef9-9ad0-fb7bd8e0ba46",
      "metadata": {
        "id": "99a22f4f-7737-4ef9-9ad0-fb7bd8e0ba46"
      },
      "source": [
        "Que 2-  Suppose a fitness center manager anticipates the attendance for a particular yoga class throughout the week. Based on historical data and other factors, they estimate the expected attendance in numbers:\n",
        "\n",
        "### Expected Attendance:\n",
        "\n",
        "Monday: 40\n",
        "\n",
        "Tuesday: 45\n",
        "\n",
        "Wednesday: 38\n",
        "\n",
        "Thursday: 50\n",
        "\n",
        "Friday: 55\n",
        "\n",
        "Saturday: 60\n",
        "\n",
        "Sunday: 65\n",
        "\n",
        "However, after the week concludes, the actual attendance is recorded:\n",
        "\n",
        "\n",
        "\n",
        "### Observed (Actual) Attendance:\n",
        "\n",
        "\n",
        "\n",
        "Monday: 38\n",
        "\n",
        "Tuesday: 43\n",
        "\n",
        "Wednesday: 40\n",
        "\n",
        "Thursday: 48\n",
        "\n",
        "Friday: 52\n",
        "\n",
        "Saturday: 58\n",
        "\n",
        "Sunday: 62\n",
        "\n",
        "Ho: There is no significant difference between the expected and observed attendance for the yoga class throughout the week.\n",
        "\n",
        "Ha: There is a significant difference between the expected and observed attendance for the yoga class throughout the week.\n",
        "\n",
        "#### Use chi-square test *Statistical Tools*"
      ]
    },
    {
      "cell_type": "code",
      "execution_count": 22,
      "id": "06f2df44-24f4-4314-900d-d03f02823ceb",
      "metadata": {
        "id": "06f2df44-24f4-4314-900d-d03f02823ceb",
        "colab": {
          "base_uri": "https://localhost:8080/"
        },
        "outputId": "77692201-ced1-440d-fdc7-79a27b3cbe7f"
      },
      "outputs": [
        {
          "output_type": "stream",
          "name": "stdout",
          "text": [
            "Chi-Square Statistic: 0.29540853882959145\n",
            "p-value: 0.9995190536361036\n",
            "Fail to reject the null hypothesis: No significant difference between expected and observed attendance.\n"
          ]
        }
      ],
      "source": [
        "from scipy.stats import chisquare\n",
        "\n",
        "e_attendance = [40, 45, 38, 50, 55, 60, 65]\n",
        "\n",
        "o_attendance = [38, 43, 40, 48, 52, 58, 62]\n",
        "\n",
        "total_expected = sum(e_attendance)\n",
        "total_observed = sum(o_attendance)\n",
        "\n",
        "scaled_observed_attendance = [round((obs / total_observed) * total_expected) for obs in o_attendance]\n",
        "\n",
        "chi2_stat, p_value = chisquare(f_obs=scaled_observed_attendance, f_exp=e_attendance)"
      ]
    },
    {
      "cell_type": "code",
      "execution_count": 23,
      "id": "3db52de2-8492-49fa-a11f-9289d5318284",
      "metadata": {
        "id": "3db52de2-8492-49fa-a11f-9289d5318284",
        "colab": {
          "base_uri": "https://localhost:8080/"
        },
        "outputId": "e1b25e7b-284a-4865-8078-1ee2df41b0ec"
      },
      "outputs": [
        {
          "output_type": "stream",
          "name": "stdout",
          "text": [
            "Chi-Square Statistic: 0.29540853882959145\n",
            "p-value: 0.9995190536361036\n",
            "Fail to reject the null hypothesis: No significant difference between expected and observed attendance.\n"
          ]
        }
      ],
      "source": [
        "print(f\"Chi-Square Statistic: {chi2_stat}\")\n",
        "print(f\"p-value: {p_value}\")\n",
        "\n",
        "if p_value > 0.05:\n",
        "    print(\"Fail to reject the null hypothesis: No significant difference between expected and observed attendance.\")\n",
        "else:\n",
        "    print(\"Reject the null hypothesis: There is a significant difference between expected and observed attendance.\")"
      ]
    },
    {
      "cell_type": "markdown",
      "id": "a651ae03-9b6a-4af4-a3e9-97b90bb8913e",
      "metadata": {
        "id": "a651ae03-9b6a-4af4-a3e9-97b90bb8913e"
      },
      "source": [
        "Que3 -> Calculate anova test\n",
        "\n",
        "\n",
        "\n",
        "\n",
        "\n",
        "    | Student_ID | Semester | Total_Marks |\n",
        "    |------------|----------|-------------|\n",
        "    | 1          | Fall     | 85          |\n",
        "    | 2          | Fall     | 78          |\n",
        "    | 3          | Fall     | 92          |\n",
        "    | 4          | Spring   | 88          |\n",
        "    | 5          | Spring   | 75          |\n",
        "    | 6          | Spring   | 82          |\n",
        "    | 7          | Summer   | 90          |\n",
        "    | 8          | Summer   | 86          |\n",
        "    | 9          | Summer   | 79          |    \n",
        "\n",
        "\n",
        "Null Hypothesis (Ho): The average marks of students in each semester are approximately equal.\n",
        "\n",
        "Alternative Hypothesis (Ha): The average marks of students in at least one semester are different."
      ]
    },
    {
      "cell_type": "code",
      "execution_count": 24,
      "id": "f4680b16-587c-4bec-809e-bfe473b7538a",
      "metadata": {
        "id": "f4680b16-587c-4bec-809e-bfe473b7538a",
        "colab": {
          "base_uri": "https://localhost:8080/"
        },
        "outputId": "22a7169e-cd2f-4a80-c64d-529800833a61"
      },
      "outputs": [
        {
          "output_type": "stream",
          "name": "stdout",
          "text": [
            "F-statistic: 0.2724795640326976\n",
            "p-value: 0.7704295549801264\n",
            "Fail to reject the null hypothesis: No significant difference in total marks across semesters.\n"
          ]
        }
      ],
      "source": [
        "import pandas as pd\n",
        "from scipy.stats import f_oneway\n",
        "\n",
        "data = {\n",
        "    'Student_ID': [1, 2, 3, 4, 5, 6, 7, 8, 9],\n",
        "    'Semester': ['Fall', 'Fall', 'Fall', 'Spring', 'Spring', 'Spring', 'Summer', 'Summer', 'Summer'],\n",
        "    'Total_Marks': [85, 78, 92, 88, 75, 82, 90, 86, 79]\n",
        "}\n",
        "\n",
        "df = pd.DataFrame(data)\n",
        "\n",
        "fall_marks = df[df['Semester'] == 'Fall']['Total_Marks']\n",
        "spring_marks = df[df['Semester'] == 'Spring']['Total_Marks']\n",
        "summer_marks = df[df['Semester'] == 'Summer']['Total_Marks']\n",
        "\n",
        "anova_result = f_oneway(fall_marks, spring_marks, summer_marks)\n",
        "\n",
        "print(f\"F-statistic: {anova_result.statistic}\")\n",
        "print(f\"p-value: {anova_result.pvalue}\")\n",
        "\n",
        "if anova_result.pvalue > 0.05:\n",
        "    print(\"Fail to reject the null hypothesis: No significant difference in total marks across semesters.\")\n",
        "else:\n",
        "    print(\"Reject the null hypothesis: Significant difference in total marks across semesters.\")\n"
      ]
    },
    {
      "cell_type": "code",
      "execution_count": null,
      "id": "d53135d4-8642-469e-adc7-cc8665a07a7e",
      "metadata": {
        "id": "d53135d4-8642-469e-adc7-cc8665a07a7e"
      },
      "outputs": [],
      "source": [
        "#Solution only submit in Github"
      ]
    }
  ],
  "metadata": {
    "kernelspec": {
      "display_name": "Python 3 (ipykernel)",
      "language": "python",
      "name": "python3"
    },
    "language_info": {
      "codemirror_mode": {
        "name": "ipython",
        "version": 3
      },
      "file_extension": ".py",
      "mimetype": "text/x-python",
      "name": "python",
      "nbconvert_exporter": "python",
      "pygments_lexer": "ipython3",
      "version": "3.10.12"
    },
    "colab": {
      "provenance": []
    }
  },
  "nbformat": 4,
  "nbformat_minor": 5
}